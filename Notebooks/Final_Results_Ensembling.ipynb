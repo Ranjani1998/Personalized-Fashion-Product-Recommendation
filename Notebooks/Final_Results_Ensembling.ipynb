{
  "cells": [
    {
      "cell_type": "code",
      "execution_count": 1,
      "id": "15f02ef6",
      "metadata": {
        "_cell_guid": "b1076dfc-b9ad-4769-8c92-a6c4dae69d19",
        "_uuid": "8f2839f25d086af736a60e9eeb907d3b93b6e0e5",
        "execution": {
          "iopub.execute_input": "2022-04-11T11:26:24.243853Z",
          "iopub.status.busy": "2022-04-11T11:26:24.242714Z",
          "iopub.status.idle": "2022-04-11T11:26:24.251617Z",
          "shell.execute_reply": "2022-04-11T11:26:24.252141Z",
          "shell.execute_reply.started": "2022-03-14T04:08:21.845052Z"
        },
        "papermill": {
          "duration": 0.032816,
          "end_time": "2022-04-11T11:26:24.252447",
          "exception": false,
          "start_time": "2022-04-11T11:26:24.219631",
          "status": "completed"
        },
        "tags": [],
        "id": "15f02ef6"
      },
      "outputs": [],
      "source": [
        "import os\n",
        "import numpy as np\n",
        "import pandas as pd\n",
        "import gc"
      ]
    },
    {
      "cell_type": "code",
      "source": [
        "from google.colab import drive\n",
        "drive.mount('/content/drive')"
      ],
      "metadata": {
        "colab": {
          "base_uri": "https://localhost:8080/"
        },
        "id": "r4mnPui_XX2V",
        "outputId": "5c553a5c-b988-4fcb-87ce-04d5258fad63"
      },
      "id": "r4mnPui_XX2V",
      "execution_count": 2,
      "outputs": [
        {
          "output_type": "stream",
          "name": "stdout",
          "text": [
            "Mounted at /content/drive\n"
          ]
        }
      ]
    },
    {
      "cell_type": "code",
      "execution_count": 3,
      "id": "364fe65c",
      "metadata": {
        "execution": {
          "iopub.execute_input": "2022-04-11T11:26:24.295099Z",
          "iopub.status.busy": "2022-04-11T11:26:24.294391Z",
          "iopub.status.idle": "2022-04-11T11:26:25.054362Z",
          "shell.execute_reply": "2022-04-11T11:26:25.053769Z",
          "shell.execute_reply.started": "2022-03-14T04:08:21.850917Z"
        },
        "papermill": {
          "duration": 0.783431,
          "end_time": "2022-04-11T11:26:25.054519",
          "exception": false,
          "start_time": "2022-04-11T11:26:24.271088",
          "status": "completed"
        },
        "tags": [],
        "id": "364fe65c"
      },
      "outputs": [],
      "source": [
        "submissions = pd.read_csv('/content/drive/MyDrive/Project_Data/sample_submission.csv')"
      ]
    },
    {
      "cell_type": "code",
      "execution_count": 4,
      "id": "1c556982",
      "metadata": {
        "execution": {
          "iopub.execute_input": "2022-04-11T11:26:25.244158Z",
          "iopub.status.busy": "2022-04-11T11:26:25.243387Z",
          "iopub.status.idle": "2022-04-11T11:26:49.840364Z",
          "shell.execute_reply": "2022-04-11T11:26:49.840892Z",
          "shell.execute_reply.started": "2022-03-14T04:08:22.171806Z"
        },
        "papermill": {
          "duration": 24.622936,
          "end_time": "2022-04-11T11:26:49.841110",
          "exception": false,
          "start_time": "2022-04-11T11:26:25.218174",
          "status": "completed"
        },
        "tags": [],
        "colab": {
          "base_uri": "https://localhost:8080/"
        },
        "id": "1c556982",
        "outputId": "37d61043-77a8-4166-ce98-f4ad1ff4e011"
      },
      "outputs": [
        {
          "output_type": "execute_result",
          "data": {
            "text/plain": [
              "((1371980, 2), (1371980, 2), (1371980, 2))"
            ]
          },
          "metadata": {},
          "execution_count": 4
        }
      ],
      "source": [
        "sub0 = pd.read_csv('/content/drive/MyDrive/Project_Data/sub_svd.csv').sort_values('customer_id').reset_index(drop=True)\n",
        "sub1 = pd.read_csv('/content/drive/MyDrive/Project_Data/sub_content.csv').sort_values('customer_id').reset_index(drop=True)\n",
        "sub2 = pd.read_csv('/content/drive/MyDrive/Project_Data/sub_collaborative.csv').sort_values('customer_id').reset_index(drop=True)\n",
        "\n",
        "\n",
        "sub0.shape, sub1.shape, sub2.shape"
      ]
    },
    {
      "cell_type": "code",
      "execution_count": 5,
      "id": "debe368e",
      "metadata": {
        "execution": {
          "iopub.execute_input": "2022-04-11T11:27:07.435504Z",
          "iopub.status.busy": "2022-04-11T11:27:07.088374Z",
          "iopub.status.idle": "2022-04-11T11:27:08.083041Z",
          "shell.execute_reply": "2022-04-11T11:27:08.082303Z",
          "shell.execute_reply.started": "2022-03-14T04:08:59.073553Z"
        },
        "papermill": {
          "duration": 1.019735,
          "end_time": "2022-04-11T11:27:08.083225",
          "exception": false,
          "start_time": "2022-04-11T11:27:07.063490",
          "status": "completed"
        },
        "tags": [],
        "colab": {
          "base_uri": "https://localhost:8080/"
        },
        "id": "debe368e",
        "outputId": "e430edec-3f0b-4473-bfa2-6d9162f7828c"
      },
      "outputs": [
        {
          "output_type": "stream",
          "name": "stdout",
          "text": [
            "0.0\n",
            "0.0\n",
            "0.9949241242583711\n"
          ]
        }
      ],
      "source": [
        "# How many predictions are in common between models\n",
        "\n",
        "print((sub0['prediction']==sub1['prediction']).mean())\n",
        "print((sub0['prediction']==sub2['prediction']).mean())\n",
        "print((sub1['prediction']==sub2['prediction']).mean())"
      ]
    },
    {
      "cell_type": "code",
      "execution_count": 6,
      "id": "1439045a",
      "metadata": {
        "execution": {
          "iopub.execute_input": "2022-04-11T11:27:10.566300Z",
          "iopub.status.busy": "2022-04-11T11:27:10.565289Z",
          "iopub.status.idle": "2022-04-11T11:27:10.992851Z",
          "shell.execute_reply": "2022-04-11T11:27:10.992307Z",
          "shell.execute_reply.started": "2022-03-14T04:09:02.044956Z"
        },
        "papermill": {
          "duration": 0.474617,
          "end_time": "2022-04-11T11:27:10.993018",
          "exception": false,
          "start_time": "2022-04-11T11:27:10.518401",
          "status": "completed"
        },
        "tags": [],
        "colab": {
          "base_uri": "https://localhost:8080/",
          "height": 337
        },
        "id": "1439045a",
        "outputId": "c1d4a146-533c-4c9f-f537-45f3bdcdd334"
      },
      "outputs": [
        {
          "output_type": "execute_result",
          "data": {
            "text/plain": [
              "                                         customer_id  \\\n",
              "0  00000dbacae5abe5e23885899a1fa44253a17956c6d1c3...   \n",
              "1  0000423b00ade91418cceaf3b26c6af3dd342b51fd051e...   \n",
              "2  000058a12d5b43e67d225668fa1f8d618c13dc232df0ca...   \n",
              "3  00005ca1c9ed5f5146b52ac8639a40ca9d57aeff4d1bd2...   \n",
              "4  00006413d8573cd20ed7128e53b7b13819fe5cfc2d801f...   \n",
              "\n",
              "                                         prediction0  \\\n",
              "0  0924243002 0448509014 0923758001 0751471001 07...   \n",
              "1  0924243002 0448509014 0923758001 0751471001 07...   \n",
              "2  0794321007 0805000001 0924243002 0448509014 09...   \n",
              "3  0924243002 0448509014 0923758001 0751471001 07...   \n",
              "4  0924243002 0448509014 0923758001 0751471001 07...   \n",
              "\n",
              "                                         prediction1  \\\n",
              "0  0'0568601043' 0'0841260003' 0'0887593002' 0'08...   \n",
              "1  0'0826211002' 0'0599580055' 0'0599580055' 0'08...   \n",
              "2  0'0794321007' 0'0858883002' 0'0851400006' 0'07...   \n",
              "3  0'0742079001' 0'0732413001' 00924243002 007514...   \n",
              "4  0'0896152002' 0'0730683050' 0'0927530004' 0'07...   \n",
              "\n",
              "                                         prediction2  \n",
              "0  0'0568601043' 0'0841260003' 0'0887593002' 0'08...  \n",
              "1  0'0826211002' 0'0599580055' 0'0599580055' 0'08...  \n",
              "2  0'0794321007' 0'0858883002' 0'0851400006' 0'07...  \n",
              "3  0'0742079001' 0'0732413001' 00924243002 007514...  \n",
              "4  0'0896152002' 0'0730683050' 0'0927530004' 0'07...  "
            ],
            "text/html": [
              "\n",
              "  <div id=\"df-f94e34e5-aee7-4334-8071-59e25a4c800f\">\n",
              "    <div class=\"colab-df-container\">\n",
              "      <div>\n",
              "<style scoped>\n",
              "    .dataframe tbody tr th:only-of-type {\n",
              "        vertical-align: middle;\n",
              "    }\n",
              "\n",
              "    .dataframe tbody tr th {\n",
              "        vertical-align: top;\n",
              "    }\n",
              "\n",
              "    .dataframe thead th {\n",
              "        text-align: right;\n",
              "    }\n",
              "</style>\n",
              "<table border=\"1\" class=\"dataframe\">\n",
              "  <thead>\n",
              "    <tr style=\"text-align: right;\">\n",
              "      <th></th>\n",
              "      <th>customer_id</th>\n",
              "      <th>prediction0</th>\n",
              "      <th>prediction1</th>\n",
              "      <th>prediction2</th>\n",
              "    </tr>\n",
              "  </thead>\n",
              "  <tbody>\n",
              "    <tr>\n",
              "      <th>0</th>\n",
              "      <td>00000dbacae5abe5e23885899a1fa44253a17956c6d1c3...</td>\n",
              "      <td>0924243002 0448509014 0923758001 0751471001 07...</td>\n",
              "      <td>0'0568601043' 0'0841260003' 0'0887593002' 0'08...</td>\n",
              "      <td>0'0568601043' 0'0841260003' 0'0887593002' 0'08...</td>\n",
              "    </tr>\n",
              "    <tr>\n",
              "      <th>1</th>\n",
              "      <td>0000423b00ade91418cceaf3b26c6af3dd342b51fd051e...</td>\n",
              "      <td>0924243002 0448509014 0923758001 0751471001 07...</td>\n",
              "      <td>0'0826211002' 0'0599580055' 0'0599580055' 0'08...</td>\n",
              "      <td>0'0826211002' 0'0599580055' 0'0599580055' 0'08...</td>\n",
              "    </tr>\n",
              "    <tr>\n",
              "      <th>2</th>\n",
              "      <td>000058a12d5b43e67d225668fa1f8d618c13dc232df0ca...</td>\n",
              "      <td>0794321007 0805000001 0924243002 0448509014 09...</td>\n",
              "      <td>0'0794321007' 0'0858883002' 0'0851400006' 0'07...</td>\n",
              "      <td>0'0794321007' 0'0858883002' 0'0851400006' 0'07...</td>\n",
              "    </tr>\n",
              "    <tr>\n",
              "      <th>3</th>\n",
              "      <td>00005ca1c9ed5f5146b52ac8639a40ca9d57aeff4d1bd2...</td>\n",
              "      <td>0924243002 0448509014 0923758001 0751471001 07...</td>\n",
              "      <td>0'0742079001' 0'0732413001' 00924243002 007514...</td>\n",
              "      <td>0'0742079001' 0'0732413001' 00924243002 007514...</td>\n",
              "    </tr>\n",
              "    <tr>\n",
              "      <th>4</th>\n",
              "      <td>00006413d8573cd20ed7128e53b7b13819fe5cfc2d801f...</td>\n",
              "      <td>0924243002 0448509014 0923758001 0751471001 07...</td>\n",
              "      <td>0'0896152002' 0'0730683050' 0'0927530004' 0'07...</td>\n",
              "      <td>0'0896152002' 0'0730683050' 0'0927530004' 0'07...</td>\n",
              "    </tr>\n",
              "  </tbody>\n",
              "</table>\n",
              "</div>\n",
              "      <button class=\"colab-df-convert\" onclick=\"convertToInteractive('df-f94e34e5-aee7-4334-8071-59e25a4c800f')\"\n",
              "              title=\"Convert this dataframe to an interactive table.\"\n",
              "              style=\"display:none;\">\n",
              "        \n",
              "  <svg xmlns=\"http://www.w3.org/2000/svg\" height=\"24px\"viewBox=\"0 0 24 24\"\n",
              "       width=\"24px\">\n",
              "    <path d=\"M0 0h24v24H0V0z\" fill=\"none\"/>\n",
              "    <path d=\"M18.56 5.44l.94 2.06.94-2.06 2.06-.94-2.06-.94-.94-2.06-.94 2.06-2.06.94zm-11 1L8.5 8.5l.94-2.06 2.06-.94-2.06-.94L8.5 2.5l-.94 2.06-2.06.94zm10 10l.94 2.06.94-2.06 2.06-.94-2.06-.94-.94-2.06-.94 2.06-2.06.94z\"/><path d=\"M17.41 7.96l-1.37-1.37c-.4-.4-.92-.59-1.43-.59-.52 0-1.04.2-1.43.59L10.3 9.45l-7.72 7.72c-.78.78-.78 2.05 0 2.83L4 21.41c.39.39.9.59 1.41.59.51 0 1.02-.2 1.41-.59l7.78-7.78 2.81-2.81c.8-.78.8-2.07 0-2.86zM5.41 20L4 18.59l7.72-7.72 1.47 1.35L5.41 20z\"/>\n",
              "  </svg>\n",
              "      </button>\n",
              "      \n",
              "  <style>\n",
              "    .colab-df-container {\n",
              "      display:flex;\n",
              "      flex-wrap:wrap;\n",
              "      gap: 12px;\n",
              "    }\n",
              "\n",
              "    .colab-df-convert {\n",
              "      background-color: #E8F0FE;\n",
              "      border: none;\n",
              "      border-radius: 50%;\n",
              "      cursor: pointer;\n",
              "      display: none;\n",
              "      fill: #1967D2;\n",
              "      height: 32px;\n",
              "      padding: 0 0 0 0;\n",
              "      width: 32px;\n",
              "    }\n",
              "\n",
              "    .colab-df-convert:hover {\n",
              "      background-color: #E2EBFA;\n",
              "      box-shadow: 0px 1px 2px rgba(60, 64, 67, 0.3), 0px 1px 3px 1px rgba(60, 64, 67, 0.15);\n",
              "      fill: #174EA6;\n",
              "    }\n",
              "\n",
              "    [theme=dark] .colab-df-convert {\n",
              "      background-color: #3B4455;\n",
              "      fill: #D2E3FC;\n",
              "    }\n",
              "\n",
              "    [theme=dark] .colab-df-convert:hover {\n",
              "      background-color: #434B5C;\n",
              "      box-shadow: 0px 1px 3px 1px rgba(0, 0, 0, 0.15);\n",
              "      filter: drop-shadow(0px 1px 2px rgba(0, 0, 0, 0.3));\n",
              "      fill: #FFFFFF;\n",
              "    }\n",
              "  </style>\n",
              "\n",
              "      <script>\n",
              "        const buttonEl =\n",
              "          document.querySelector('#df-f94e34e5-aee7-4334-8071-59e25a4c800f button.colab-df-convert');\n",
              "        buttonEl.style.display =\n",
              "          google.colab.kernel.accessAllowed ? 'block' : 'none';\n",
              "\n",
              "        async function convertToInteractive(key) {\n",
              "          const element = document.querySelector('#df-f94e34e5-aee7-4334-8071-59e25a4c800f');\n",
              "          const dataTable =\n",
              "            await google.colab.kernel.invokeFunction('convertToInteractive',\n",
              "                                                     [key], {});\n",
              "          if (!dataTable) return;\n",
              "\n",
              "          const docLinkHtml = 'Like what you see? Visit the ' +\n",
              "            '<a target=\"_blank\" href=https://colab.research.google.com/notebooks/data_table.ipynb>data table notebook</a>'\n",
              "            + ' to learn more about interactive tables.';\n",
              "          element.innerHTML = '';\n",
              "          dataTable['output_type'] = 'display_data';\n",
              "          await google.colab.output.renderOutput(dataTable, element);\n",
              "          const docLink = document.createElement('div');\n",
              "          docLink.innerHTML = docLinkHtml;\n",
              "          element.appendChild(docLink);\n",
              "        }\n",
              "      </script>\n",
              "    </div>\n",
              "  </div>\n",
              "  "
            ]
          },
          "metadata": {},
          "execution_count": 6
        }
      ],
      "source": [
        "sub0.columns = ['customer_id', 'prediction0']\n",
        "sub0['prediction1'] = sub1['prediction']\n",
        "sub0['prediction2'] = sub2['prediction']\n",
        "\n",
        "del sub1, sub2\n",
        "gc.collect()\n",
        "sub0.head()"
      ]
    },
    {
      "cell_type": "code",
      "execution_count": 7,
      "id": "4fb8d191",
      "metadata": {
        "execution": {
          "iopub.execute_input": "2022-04-11T11:27:11.048682Z",
          "iopub.status.busy": "2022-04-11T11:27:11.047599Z",
          "iopub.status.idle": "2022-04-11T11:27:11.050370Z",
          "shell.execute_reply": "2022-04-11T11:27:11.049750Z",
          "shell.execute_reply.started": "2022-03-14T04:09:02.382214Z"
        },
        "papermill": {
          "duration": 0.035943,
          "end_time": "2022-04-11T11:27:11.050506",
          "exception": false,
          "start_time": "2022-04-11T11:27:11.014563",
          "status": "completed"
        },
        "tags": [],
        "id": "4fb8d191"
      },
      "outputs": [],
      "source": [
        "def cust_blend(dt, W = [1,1,1,1]):\n",
        "    #Global ensemble weights\n",
        "    #W = [1.15,0.95,0.85]\n",
        "    \n",
        "    #Create a list of all model predictions\n",
        "    REC = []\n",
        "    \n",
        "    # Second Try\n",
        "    REC.append(dt['prediction0'].split())\n",
        "    REC.append(dt['prediction1'].split())\n",
        "    REC.append(dt['prediction2'].split())\n",
        "    \n",
        "    #Create a dictionary of items recommended. \n",
        "    #Assign a weight according the order of appearance and multiply by global weights\n",
        "    res = {}\n",
        "    for M in range(len(REC)):\n",
        "        for n, v in enumerate(REC[M]):\n",
        "            if v in res:\n",
        "                res[v] += (W[M]/(n+1))\n",
        "            else:\n",
        "                res[v] = (W[M]/(n+1))\n",
        "    \n",
        "    # Sort dictionary by item weights\n",
        "    res = list(dict(sorted(res.items(), key=lambda item: -item[1])).keys())\n",
        "    \n",
        "    # Return the top 12 itens only\n",
        "    return ' '.join(res[:12])"
      ]
    },
    {
      "cell_type": "code",
      "execution_count": 8,
      "id": "a1b899f3",
      "metadata": {
        "execution": {
          "iopub.execute_input": "2022-04-11T11:27:11.097530Z",
          "iopub.status.busy": "2022-04-11T11:27:11.096546Z",
          "iopub.status.idle": "2022-04-11T11:28:36.471184Z",
          "shell.execute_reply": "2022-04-11T11:28:36.471695Z",
          "shell.execute_reply.started": "2022-03-14T04:09:02.394455Z"
        },
        "papermill": {
          "duration": 85.39973,
          "end_time": "2022-04-11T11:28:36.471875",
          "exception": false,
          "start_time": "2022-04-11T11:27:11.072145",
          "status": "completed"
        },
        "tags": [],
        "colab": {
          "base_uri": "https://localhost:8080/",
          "height": 424
        },
        "id": "a1b899f3",
        "outputId": "de642426-f270-46c4-d2a2-b235edc4d6ae"
      },
      "outputs": [
        {
          "output_type": "execute_result",
          "data": {
            "text/plain": [
              "                                         customer_id  \\\n",
              "0  00000dbacae5abe5e23885899a1fa44253a17956c6d1c3...   \n",
              "1  0000423b00ade91418cceaf3b26c6af3dd342b51fd051e...   \n",
              "2  000058a12d5b43e67d225668fa1f8d618c13dc232df0ca...   \n",
              "3  00005ca1c9ed5f5146b52ac8639a40ca9d57aeff4d1bd2...   \n",
              "4  00006413d8573cd20ed7128e53b7b13819fe5cfc2d801f...   \n",
              "\n",
              "                                         prediction0  \\\n",
              "0  0924243002 0448509014 0923758001 0751471001 07...   \n",
              "1  0924243002 0448509014 0923758001 0751471001 07...   \n",
              "2  0794321007 0805000001 0924243002 0448509014 09...   \n",
              "3  0924243002 0448509014 0923758001 0751471001 07...   \n",
              "4  0924243002 0448509014 0923758001 0751471001 07...   \n",
              "\n",
              "                                         prediction1  \\\n",
              "0  0'0568601043' 0'0841260003' 0'0887593002' 0'08...   \n",
              "1  0'0826211002' 0'0599580055' 0'0599580055' 0'08...   \n",
              "2  0'0794321007' 0'0858883002' 0'0851400006' 0'07...   \n",
              "3  0'0742079001' 0'0732413001' 00924243002 007514...   \n",
              "4  0'0896152002' 0'0730683050' 0'0927530004' 0'07...   \n",
              "\n",
              "                                         prediction2  \\\n",
              "0  0'0568601043' 0'0841260003' 0'0887593002' 0'08...   \n",
              "1  0'0826211002' 0'0599580055' 0'0599580055' 0'08...   \n",
              "2  0'0794321007' 0'0858883002' 0'0851400006' 0'07...   \n",
              "3  0'0742079001' 0'0732413001' 00924243002 007514...   \n",
              "4  0'0896152002' 0'0730683050' 0'0927530004' 0'07...   \n",
              "\n",
              "                                          prediction  \n",
              "0  0'0568601043' 0924243002 0'0841260003' 0'08875...  \n",
              "1  0'0826211002' 0'0599580055' 0'0811835004' 0924...  \n",
              "2  0'0794321007' 0794321007 0'0858883002' 0'07504...  \n",
              "3  0'0742079001' 0924243002 0'0732413001' 0092424...  \n",
              "4  0'0896152002' 0924243002 0'0730683050' 0'09275...  "
            ],
            "text/html": [
              "\n",
              "  <div id=\"df-a0441764-7125-448b-8904-bde40a25650d\">\n",
              "    <div class=\"colab-df-container\">\n",
              "      <div>\n",
              "<style scoped>\n",
              "    .dataframe tbody tr th:only-of-type {\n",
              "        vertical-align: middle;\n",
              "    }\n",
              "\n",
              "    .dataframe tbody tr th {\n",
              "        vertical-align: top;\n",
              "    }\n",
              "\n",
              "    .dataframe thead th {\n",
              "        text-align: right;\n",
              "    }\n",
              "</style>\n",
              "<table border=\"1\" class=\"dataframe\">\n",
              "  <thead>\n",
              "    <tr style=\"text-align: right;\">\n",
              "      <th></th>\n",
              "      <th>customer_id</th>\n",
              "      <th>prediction0</th>\n",
              "      <th>prediction1</th>\n",
              "      <th>prediction2</th>\n",
              "      <th>prediction</th>\n",
              "    </tr>\n",
              "  </thead>\n",
              "  <tbody>\n",
              "    <tr>\n",
              "      <th>0</th>\n",
              "      <td>00000dbacae5abe5e23885899a1fa44253a17956c6d1c3...</td>\n",
              "      <td>0924243002 0448509014 0923758001 0751471001 07...</td>\n",
              "      <td>0'0568601043' 0'0841260003' 0'0887593002' 0'08...</td>\n",
              "      <td>0'0568601043' 0'0841260003' 0'0887593002' 0'08...</td>\n",
              "      <td>0'0568601043' 0924243002 0'0841260003' 0'08875...</td>\n",
              "    </tr>\n",
              "    <tr>\n",
              "      <th>1</th>\n",
              "      <td>0000423b00ade91418cceaf3b26c6af3dd342b51fd051e...</td>\n",
              "      <td>0924243002 0448509014 0923758001 0751471001 07...</td>\n",
              "      <td>0'0826211002' 0'0599580055' 0'0599580055' 0'08...</td>\n",
              "      <td>0'0826211002' 0'0599580055' 0'0599580055' 0'08...</td>\n",
              "      <td>0'0826211002' 0'0599580055' 0'0811835004' 0924...</td>\n",
              "    </tr>\n",
              "    <tr>\n",
              "      <th>2</th>\n",
              "      <td>000058a12d5b43e67d225668fa1f8d618c13dc232df0ca...</td>\n",
              "      <td>0794321007 0805000001 0924243002 0448509014 09...</td>\n",
              "      <td>0'0794321007' 0'0858883002' 0'0851400006' 0'07...</td>\n",
              "      <td>0'0794321007' 0'0858883002' 0'0851400006' 0'07...</td>\n",
              "      <td>0'0794321007' 0794321007 0'0858883002' 0'07504...</td>\n",
              "    </tr>\n",
              "    <tr>\n",
              "      <th>3</th>\n",
              "      <td>00005ca1c9ed5f5146b52ac8639a40ca9d57aeff4d1bd2...</td>\n",
              "      <td>0924243002 0448509014 0923758001 0751471001 07...</td>\n",
              "      <td>0'0742079001' 0'0732413001' 00924243002 007514...</td>\n",
              "      <td>0'0742079001' 0'0732413001' 00924243002 007514...</td>\n",
              "      <td>0'0742079001' 0924243002 0'0732413001' 0092424...</td>\n",
              "    </tr>\n",
              "    <tr>\n",
              "      <th>4</th>\n",
              "      <td>00006413d8573cd20ed7128e53b7b13819fe5cfc2d801f...</td>\n",
              "      <td>0924243002 0448509014 0923758001 0751471001 07...</td>\n",
              "      <td>0'0896152002' 0'0730683050' 0'0927530004' 0'07...</td>\n",
              "      <td>0'0896152002' 0'0730683050' 0'0927530004' 0'07...</td>\n",
              "      <td>0'0896152002' 0924243002 0'0730683050' 0'09275...</td>\n",
              "    </tr>\n",
              "  </tbody>\n",
              "</table>\n",
              "</div>\n",
              "      <button class=\"colab-df-convert\" onclick=\"convertToInteractive('df-a0441764-7125-448b-8904-bde40a25650d')\"\n",
              "              title=\"Convert this dataframe to an interactive table.\"\n",
              "              style=\"display:none;\">\n",
              "        \n",
              "  <svg xmlns=\"http://www.w3.org/2000/svg\" height=\"24px\"viewBox=\"0 0 24 24\"\n",
              "       width=\"24px\">\n",
              "    <path d=\"M0 0h24v24H0V0z\" fill=\"none\"/>\n",
              "    <path d=\"M18.56 5.44l.94 2.06.94-2.06 2.06-.94-2.06-.94-.94-2.06-.94 2.06-2.06.94zm-11 1L8.5 8.5l.94-2.06 2.06-.94-2.06-.94L8.5 2.5l-.94 2.06-2.06.94zm10 10l.94 2.06.94-2.06 2.06-.94-2.06-.94-.94-2.06-.94 2.06-2.06.94z\"/><path d=\"M17.41 7.96l-1.37-1.37c-.4-.4-.92-.59-1.43-.59-.52 0-1.04.2-1.43.59L10.3 9.45l-7.72 7.72c-.78.78-.78 2.05 0 2.83L4 21.41c.39.39.9.59 1.41.59.51 0 1.02-.2 1.41-.59l7.78-7.78 2.81-2.81c.8-.78.8-2.07 0-2.86zM5.41 20L4 18.59l7.72-7.72 1.47 1.35L5.41 20z\"/>\n",
              "  </svg>\n",
              "      </button>\n",
              "      \n",
              "  <style>\n",
              "    .colab-df-container {\n",
              "      display:flex;\n",
              "      flex-wrap:wrap;\n",
              "      gap: 12px;\n",
              "    }\n",
              "\n",
              "    .colab-df-convert {\n",
              "      background-color: #E8F0FE;\n",
              "      border: none;\n",
              "      border-radius: 50%;\n",
              "      cursor: pointer;\n",
              "      display: none;\n",
              "      fill: #1967D2;\n",
              "      height: 32px;\n",
              "      padding: 0 0 0 0;\n",
              "      width: 32px;\n",
              "    }\n",
              "\n",
              "    .colab-df-convert:hover {\n",
              "      background-color: #E2EBFA;\n",
              "      box-shadow: 0px 1px 2px rgba(60, 64, 67, 0.3), 0px 1px 3px 1px rgba(60, 64, 67, 0.15);\n",
              "      fill: #174EA6;\n",
              "    }\n",
              "\n",
              "    [theme=dark] .colab-df-convert {\n",
              "      background-color: #3B4455;\n",
              "      fill: #D2E3FC;\n",
              "    }\n",
              "\n",
              "    [theme=dark] .colab-df-convert:hover {\n",
              "      background-color: #434B5C;\n",
              "      box-shadow: 0px 1px 3px 1px rgba(0, 0, 0, 0.15);\n",
              "      filter: drop-shadow(0px 1px 2px rgba(0, 0, 0, 0.3));\n",
              "      fill: #FFFFFF;\n",
              "    }\n",
              "  </style>\n",
              "\n",
              "      <script>\n",
              "        const buttonEl =\n",
              "          document.querySelector('#df-a0441764-7125-448b-8904-bde40a25650d button.colab-df-convert');\n",
              "        buttonEl.style.display =\n",
              "          google.colab.kernel.accessAllowed ? 'block' : 'none';\n",
              "\n",
              "        async function convertToInteractive(key) {\n",
              "          const element = document.querySelector('#df-a0441764-7125-448b-8904-bde40a25650d');\n",
              "          const dataTable =\n",
              "            await google.colab.kernel.invokeFunction('convertToInteractive',\n",
              "                                                     [key], {});\n",
              "          if (!dataTable) return;\n",
              "\n",
              "          const docLinkHtml = 'Like what you see? Visit the ' +\n",
              "            '<a target=\"_blank\" href=https://colab.research.google.com/notebooks/data_table.ipynb>data table notebook</a>'\n",
              "            + ' to learn more about interactive tables.';\n",
              "          element.innerHTML = '';\n",
              "          dataTable['output_type'] = 'display_data';\n",
              "          await google.colab.output.renderOutput(dataTable, element);\n",
              "          const docLink = document.createElement('div');\n",
              "          docLink.innerHTML = docLinkHtml;\n",
              "          element.appendChild(docLink);\n",
              "        }\n",
              "      </script>\n",
              "    </div>\n",
              "  </div>\n",
              "  "
            ]
          },
          "metadata": {},
          "execution_count": 8
        }
      ],
      "source": [
        "sub0['prediction'] = sub0.apply(cust_blend, W = [1.05,1.00,0.95,0.85], axis=1)\n",
        "sub0.head()"
      ]
    },
    {
      "cell_type": "code",
      "execution_count": 9,
      "id": "57a6ebbd",
      "metadata": {
        "execution": {
          "iopub.execute_input": "2022-04-11T11:28:36.847097Z",
          "iopub.status.busy": "2022-04-11T11:28:36.846379Z",
          "iopub.status.idle": "2022-04-11T11:28:38.148835Z",
          "shell.execute_reply": "2022-04-11T11:28:38.148330Z",
          "shell.execute_reply.started": "2022-03-14T04:10:08.62722Z"
        },
        "papermill": {
          "duration": 1.654952,
          "end_time": "2022-04-11T11:28:38.149007",
          "exception": false,
          "start_time": "2022-04-11T11:28:36.494055",
          "status": "completed"
        },
        "tags": [],
        "colab": {
          "base_uri": "https://localhost:8080/"
        },
        "id": "57a6ebbd",
        "outputId": "0c59fce2-84c1-410e-ec58-19cb2c232c5f"
      },
      "outputs": [
        {
          "output_type": "stream",
          "name": "stdout",
          "text": [
            "0.0\n",
            "0.0\n",
            "0.0\n"
          ]
        }
      ],
      "source": [
        "# How many predictions are in common with ensemble\n",
        "\n",
        "print((sub0['prediction']==sub0['prediction0']).mean())\n",
        "print((sub0['prediction']==sub0['prediction1']).mean())\n",
        "print((sub0['prediction']==sub0['prediction2']).mean())"
      ]
    },
    {
      "cell_type": "markdown",
      "id": "2c1f4d6a",
      "metadata": {
        "papermill": {
          "duration": 0.02281,
          "end_time": "2022-04-11T11:28:38.240943",
          "exception": false,
          "start_time": "2022-04-11T11:28:38.218133",
          "status": "completed"
        },
        "tags": [],
        "id": "2c1f4d6a"
      },
      "source": [
        "# Make a submission"
      ]
    },
    {
      "cell_type": "code",
      "execution_count": 10,
      "id": "b9fcefff",
      "metadata": {
        "execution": {
          "iopub.execute_input": "2022-04-11T11:28:38.394208Z",
          "iopub.status.busy": "2022-04-11T11:28:38.393497Z",
          "iopub.status.idle": "2022-04-11T11:28:51.194400Z",
          "shell.execute_reply": "2022-04-11T11:28:51.193733Z",
          "shell.execute_reply.started": "2022-03-14T04:10:09.263615Z"
        },
        "papermill": {
          "duration": 12.929169,
          "end_time": "2022-04-11T11:28:51.194544",
          "exception": false,
          "start_time": "2022-04-11T11:28:38.265375",
          "status": "completed"
        },
        "tags": [],
        "id": "b9fcefff"
      },
      "outputs": [],
      "source": [
        "del sub0['prediction0']\n",
        "del sub0['prediction1']\n",
        "del sub0['prediction2']\n",
        "\n",
        "gc.collect()\n",
        "sub0.to_csv('/content/drive/MyDrive/Project_Data/sub_embedded.csv', index=False)"
      ]
    }
  ],
  "metadata": {
    "kernelspec": {
      "display_name": "Python 3",
      "language": "python",
      "name": "python3"
    },
    "language_info": {
      "codemirror_mode": {
        "name": "ipython",
        "version": 3
      },
      "file_extension": ".py",
      "mimetype": "text/x-python",
      "name": "python",
      "nbconvert_exporter": "python",
      "pygments_lexer": "ipython3",
      "version": "3.7.12"
    },
    "papermill": {
      "default_parameters": {},
      "duration": 158.959241,
      "end_time": "2022-04-11T11:28:52.330798",
      "environment_variables": {},
      "exception": null,
      "input_path": "__notebook__.ipynb",
      "output_path": "__notebook__.ipynb",
      "parameters": {},
      "start_time": "2022-04-11T11:26:13.371557",
      "version": "2.3.3"
    },
    "colab": {
      "name": "Final Results Ensembling",
      "provenance": []
    },
    "accelerator": "GPU"
  },
  "nbformat": 4,
  "nbformat_minor": 5
}