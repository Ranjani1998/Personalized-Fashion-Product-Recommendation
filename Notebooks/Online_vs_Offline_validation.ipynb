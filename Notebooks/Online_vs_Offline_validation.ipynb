{
  "cells": [
    {
      "cell_type": "markdown",
      "id": "bd3432e7",
      "metadata": {
        "papermill": {
          "duration": 0.015791,
          "end_time": "2022-03-25T19:23:50.086319",
          "exception": false,
          "start_time": "2022-03-25T19:23:50.070528",
          "status": "completed"
        },
        "tags": [],
        "id": "bd3432e7"
      },
      "source": [
        "### Overview"
      ]
    },
    {
      "cell_type": "markdown",
      "id": "48302cff",
      "metadata": {
        "papermill": {
          "duration": 0.01424,
          "end_time": "2022-03-25T19:23:50.115640",
          "exception": false,
          "start_time": "2022-03-25T19:23:50.101400",
          "status": "completed"
        },
        "tags": [],
        "id": "48302cff"
      },
      "source": [
        "In this notebook, I would like to present a framework for **partitioned validation** using one-week hold out.  \n",
        "As an example of possible groupings of customers, here I choose '**online vs. offline**', which shows that it is more difficult to predict future purchases of offline uses than to predict those of online users.  \n",
        "  "
      ]
    },
    {
      "cell_type": "markdown",
      "id": "11b97fba",
      "metadata": {
        "papermill": {
          "duration": 0.014265,
          "end_time": "2022-03-25T19:23:50.146344",
          "exception": false,
          "start_time": "2022-03-25T19:23:50.132079",
          "status": "completed"
        },
        "tags": [],
        "id": "11b97fba"
      },
      "source": [
        "## Parquet Format"
      ]
    },
    {
      "cell_type": "code",
      "source": [
        "from google.colab import drive\n",
        "drive.mount('/content/drive')"
      ],
      "metadata": {
        "colab": {
          "base_uri": "https://localhost:8080/"
        },
        "id": "7ufH32Nc2dq4",
        "outputId": "fa55385b-5387-4071-86ec-b9e58ceb3e46"
      },
      "id": "7ufH32Nc2dq4",
      "execution_count": null,
      "outputs": [
        {
          "output_type": "stream",
          "name": "stdout",
          "text": [
            "Mounted at /content/drive\n"
          ]
        }
      ]
    },
    {
      "cell_type": "code",
      "source": [
        "!pip install pyspark"
      ],
      "metadata": {
        "id": "OEdiUj1z9nPt"
      },
      "id": "OEdiUj1z9nPt",
      "execution_count": null,
      "outputs": []
    },
    {
      "cell_type": "code",
      "source": [
        "adf = pd.read_parquet('/content/drive/MyDrive/Project_Data/Parquet/articles.parquet')\n",
        "adf.head()"
      ],
      "metadata": {
        "colab": {
          "base_uri": "https://localhost:8080/",
          "height": 299
        },
        "id": "XLVM0u-wBEru",
        "outputId": "455a1ee7-e1df-4e36-81b9-fd375ea09e39"
      },
      "id": "XLVM0u-wBEru",
      "execution_count": null,
      "outputs": [
        {
          "output_type": "execute_result",
          "data": {
            "text/plain": [
              "   article_id  product_code  prod_name  product_type_no  product_type_name  \\\n",
              "0   108775015        108775      12855              253                  9   \n",
              "1   108775044        108775      12855              253                  9   \n",
              "2   108775051        108775      44846              253                  9   \n",
              "3   110065001        110065       8159              306                 13   \n",
              "4   110065002        110065       8159              306                 13   \n",
              "\n",
              "   product_group_name  graphical_appearance_no  graphical_appearance_name  \\\n",
              "0                   0                  1010016                          0   \n",
              "1                   0                  1010016                          0   \n",
              "2                   0                  1010017                          3   \n",
              "3                   4                  1010016                          0   \n",
              "4                   4                  1010016                          0   \n",
              "\n",
              "   colour_group_code  colour_group_name  ...  department_name  index_code  \\\n",
              "0                  9                  0  ...               10           0   \n",
              "1                 10                  2  ...               10           0   \n",
              "2                 11                 11  ...               10           0   \n",
              "3                  9                  0  ...              131           7   \n",
              "4                 10                  2  ...              131           7   \n",
              "\n",
              "   index_name  index_group_no  index_group_name  section_no  section_name  \\\n",
              "0           0               1                 0          16            30   \n",
              "1           0               1                 0          16            30   \n",
              "2           0               1                 0          16            30   \n",
              "3           7               1                 0          61             5   \n",
              "4           7               1                 0          61             5   \n",
              "\n",
              "   garment_group_no  garment_group_name  detail_desc  \n",
              "0              1002                   2         8834  \n",
              "1              1002                   2         8834  \n",
              "2              1002                   2         8834  \n",
              "3              1017                   4         8243  \n",
              "4              1017                   4         8243  \n",
              "\n",
              "[5 rows x 25 columns]"
            ],
            "text/html": [
              "\n",
              "  <div id=\"df-1c988abf-e695-4bef-8a2e-5cd67b69e4bb\">\n",
              "    <div class=\"colab-df-container\">\n",
              "      <div>\n",
              "<style scoped>\n",
              "    .dataframe tbody tr th:only-of-type {\n",
              "        vertical-align: middle;\n",
              "    }\n",
              "\n",
              "    .dataframe tbody tr th {\n",
              "        vertical-align: top;\n",
              "    }\n",
              "\n",
              "    .dataframe thead th {\n",
              "        text-align: right;\n",
              "    }\n",
              "</style>\n",
              "<table border=\"1\" class=\"dataframe\">\n",
              "  <thead>\n",
              "    <tr style=\"text-align: right;\">\n",
              "      <th></th>\n",
              "      <th>article_id</th>\n",
              "      <th>product_code</th>\n",
              "      <th>prod_name</th>\n",
              "      <th>product_type_no</th>\n",
              "      <th>product_type_name</th>\n",
              "      <th>product_group_name</th>\n",
              "      <th>graphical_appearance_no</th>\n",
              "      <th>graphical_appearance_name</th>\n",
              "      <th>colour_group_code</th>\n",
              "      <th>colour_group_name</th>\n",
              "      <th>...</th>\n",
              "      <th>department_name</th>\n",
              "      <th>index_code</th>\n",
              "      <th>index_name</th>\n",
              "      <th>index_group_no</th>\n",
              "      <th>index_group_name</th>\n",
              "      <th>section_no</th>\n",
              "      <th>section_name</th>\n",
              "      <th>garment_group_no</th>\n",
              "      <th>garment_group_name</th>\n",
              "      <th>detail_desc</th>\n",
              "    </tr>\n",
              "  </thead>\n",
              "  <tbody>\n",
              "    <tr>\n",
              "      <th>0</th>\n",
              "      <td>108775015</td>\n",
              "      <td>108775</td>\n",
              "      <td>12855</td>\n",
              "      <td>253</td>\n",
              "      <td>9</td>\n",
              "      <td>0</td>\n",
              "      <td>1010016</td>\n",
              "      <td>0</td>\n",
              "      <td>9</td>\n",
              "      <td>0</td>\n",
              "      <td>...</td>\n",
              "      <td>10</td>\n",
              "      <td>0</td>\n",
              "      <td>0</td>\n",
              "      <td>1</td>\n",
              "      <td>0</td>\n",
              "      <td>16</td>\n",
              "      <td>30</td>\n",
              "      <td>1002</td>\n",
              "      <td>2</td>\n",
              "      <td>8834</td>\n",
              "    </tr>\n",
              "    <tr>\n",
              "      <th>1</th>\n",
              "      <td>108775044</td>\n",
              "      <td>108775</td>\n",
              "      <td>12855</td>\n",
              "      <td>253</td>\n",
              "      <td>9</td>\n",
              "      <td>0</td>\n",
              "      <td>1010016</td>\n",
              "      <td>0</td>\n",
              "      <td>10</td>\n",
              "      <td>2</td>\n",
              "      <td>...</td>\n",
              "      <td>10</td>\n",
              "      <td>0</td>\n",
              "      <td>0</td>\n",
              "      <td>1</td>\n",
              "      <td>0</td>\n",
              "      <td>16</td>\n",
              "      <td>30</td>\n",
              "      <td>1002</td>\n",
              "      <td>2</td>\n",
              "      <td>8834</td>\n",
              "    </tr>\n",
              "    <tr>\n",
              "      <th>2</th>\n",
              "      <td>108775051</td>\n",
              "      <td>108775</td>\n",
              "      <td>44846</td>\n",
              "      <td>253</td>\n",
              "      <td>9</td>\n",
              "      <td>0</td>\n",
              "      <td>1010017</td>\n",
              "      <td>3</td>\n",
              "      <td>11</td>\n",
              "      <td>11</td>\n",
              "      <td>...</td>\n",
              "      <td>10</td>\n",
              "      <td>0</td>\n",
              "      <td>0</td>\n",
              "      <td>1</td>\n",
              "      <td>0</td>\n",
              "      <td>16</td>\n",
              "      <td>30</td>\n",
              "      <td>1002</td>\n",
              "      <td>2</td>\n",
              "      <td>8834</td>\n",
              "    </tr>\n",
              "    <tr>\n",
              "      <th>3</th>\n",
              "      <td>110065001</td>\n",
              "      <td>110065</td>\n",
              "      <td>8159</td>\n",
              "      <td>306</td>\n",
              "      <td>13</td>\n",
              "      <td>4</td>\n",
              "      <td>1010016</td>\n",
              "      <td>0</td>\n",
              "      <td>9</td>\n",
              "      <td>0</td>\n",
              "      <td>...</td>\n",
              "      <td>131</td>\n",
              "      <td>7</td>\n",
              "      <td>7</td>\n",
              "      <td>1</td>\n",
              "      <td>0</td>\n",
              "      <td>61</td>\n",
              "      <td>5</td>\n",
              "      <td>1017</td>\n",
              "      <td>4</td>\n",
              "      <td>8243</td>\n",
              "    </tr>\n",
              "    <tr>\n",
              "      <th>4</th>\n",
              "      <td>110065002</td>\n",
              "      <td>110065</td>\n",
              "      <td>8159</td>\n",
              "      <td>306</td>\n",
              "      <td>13</td>\n",
              "      <td>4</td>\n",
              "      <td>1010016</td>\n",
              "      <td>0</td>\n",
              "      <td>10</td>\n",
              "      <td>2</td>\n",
              "      <td>...</td>\n",
              "      <td>131</td>\n",
              "      <td>7</td>\n",
              "      <td>7</td>\n",
              "      <td>1</td>\n",
              "      <td>0</td>\n",
              "      <td>61</td>\n",
              "      <td>5</td>\n",
              "      <td>1017</td>\n",
              "      <td>4</td>\n",
              "      <td>8243</td>\n",
              "    </tr>\n",
              "  </tbody>\n",
              "</table>\n",
              "<p>5 rows × 25 columns</p>\n",
              "</div>\n",
              "      <button class=\"colab-df-convert\" onclick=\"convertToInteractive('df-1c988abf-e695-4bef-8a2e-5cd67b69e4bb')\"\n",
              "              title=\"Convert this dataframe to an interactive table.\"\n",
              "              style=\"display:none;\">\n",
              "        \n",
              "  <svg xmlns=\"http://www.w3.org/2000/svg\" height=\"24px\"viewBox=\"0 0 24 24\"\n",
              "       width=\"24px\">\n",
              "    <path d=\"M0 0h24v24H0V0z\" fill=\"none\"/>\n",
              "    <path d=\"M18.56 5.44l.94 2.06.94-2.06 2.06-.94-2.06-.94-.94-2.06-.94 2.06-2.06.94zm-11 1L8.5 8.5l.94-2.06 2.06-.94-2.06-.94L8.5 2.5l-.94 2.06-2.06.94zm10 10l.94 2.06.94-2.06 2.06-.94-2.06-.94-.94-2.06-.94 2.06-2.06.94z\"/><path d=\"M17.41 7.96l-1.37-1.37c-.4-.4-.92-.59-1.43-.59-.52 0-1.04.2-1.43.59L10.3 9.45l-7.72 7.72c-.78.78-.78 2.05 0 2.83L4 21.41c.39.39.9.59 1.41.59.51 0 1.02-.2 1.41-.59l7.78-7.78 2.81-2.81c.8-.78.8-2.07 0-2.86zM5.41 20L4 18.59l7.72-7.72 1.47 1.35L5.41 20z\"/>\n",
              "  </svg>\n",
              "      </button>\n",
              "      \n",
              "  <style>\n",
              "    .colab-df-container {\n",
              "      display:flex;\n",
              "      flex-wrap:wrap;\n",
              "      gap: 12px;\n",
              "    }\n",
              "\n",
              "    .colab-df-convert {\n",
              "      background-color: #E8F0FE;\n",
              "      border: none;\n",
              "      border-radius: 50%;\n",
              "      cursor: pointer;\n",
              "      display: none;\n",
              "      fill: #1967D2;\n",
              "      height: 32px;\n",
              "      padding: 0 0 0 0;\n",
              "      width: 32px;\n",
              "    }\n",
              "\n",
              "    .colab-df-convert:hover {\n",
              "      background-color: #E2EBFA;\n",
              "      box-shadow: 0px 1px 2px rgba(60, 64, 67, 0.3), 0px 1px 3px 1px rgba(60, 64, 67, 0.15);\n",
              "      fill: #174EA6;\n",
              "    }\n",
              "\n",
              "    [theme=dark] .colab-df-convert {\n",
              "      background-color: #3B4455;\n",
              "      fill: #D2E3FC;\n",
              "    }\n",
              "\n",
              "    [theme=dark] .colab-df-convert:hover {\n",
              "      background-color: #434B5C;\n",
              "      box-shadow: 0px 1px 3px 1px rgba(0, 0, 0, 0.15);\n",
              "      filter: drop-shadow(0px 1px 2px rgba(0, 0, 0, 0.3));\n",
              "      fill: #FFFFFF;\n",
              "    }\n",
              "  </style>\n",
              "\n",
              "      <script>\n",
              "        const buttonEl =\n",
              "          document.querySelector('#df-1c988abf-e695-4bef-8a2e-5cd67b69e4bb button.colab-df-convert');\n",
              "        buttonEl.style.display =\n",
              "          google.colab.kernel.accessAllowed ? 'block' : 'none';\n",
              "\n",
              "        async function convertToInteractive(key) {\n",
              "          const element = document.querySelector('#df-1c988abf-e695-4bef-8a2e-5cd67b69e4bb');\n",
              "          const dataTable =\n",
              "            await google.colab.kernel.invokeFunction('convertToInteractive',\n",
              "                                                     [key], {});\n",
              "          if (!dataTable) return;\n",
              "\n",
              "          const docLinkHtml = 'Like what you see? Visit the ' +\n",
              "            '<a target=\"_blank\" href=https://colab.research.google.com/notebooks/data_table.ipynb>data table notebook</a>'\n",
              "            + ' to learn more about interactive tables.';\n",
              "          element.innerHTML = '';\n",
              "          dataTable['output_type'] = 'display_data';\n",
              "          await google.colab.output.renderOutput(dataTable, element);\n",
              "          const docLink = document.createElement('div');\n",
              "          docLink.innerHTML = docLinkHtml;\n",
              "          element.appendChild(docLink);\n",
              "        }\n",
              "      </script>\n",
              "    </div>\n",
              "  </div>\n",
              "  "
            ]
          },
          "metadata": {},
          "execution_count": 4
        }
      ]
    },
    {
      "cell_type": "code",
      "source": [
        ""
      ],
      "metadata": {
        "id": "bAg37z2wBEvL"
      },
      "id": "bAg37z2wBEvL",
      "execution_count": null,
      "outputs": []
    },
    {
      "cell_type": "code",
      "source": [
        "import pyspark\n",
        "\n",
        "sc = pyspark.SparkContext('local[*]')\n",
        "sqlContext = pyspark.sql.SQLContext(sc)\n",
        "df = sqlContext.read.option(\"header\", \"true\").option(\"inferSchema\", \"true\").option(\"mode\", \"DROPMALFORMED\").csv('/content/drive/MyDrive/Project_Data/transactions_train.csv')\n",
        "df.write.parquet('/content/drive/MyDrive/Project_Data/transactions_train.parquet' )"
      ],
      "metadata": {
        "id": "vgAiNu0r9nSp"
      },
      "id": "vgAiNu0r9nSp",
      "execution_count": null,
      "outputs": []
    },
    {
      "cell_type": "markdown",
      "id": "3ff2026c",
      "metadata": {
        "papermill": {
          "duration": 0.015627,
          "end_time": "2022-03-25T19:23:50.177048",
          "exception": false,
          "start_time": "2022-03-25T19:23:50.161421",
          "status": "completed"
        },
        "tags": [],
        "id": "3ff2026c"
      },
      "source": [
        "### Libraries and Functions"
      ]
    },
    {
      "cell_type": "code",
      "execution_count": null,
      "id": "0f6636d7",
      "metadata": {
        "_cell_guid": "b1076dfc-b9ad-4769-8c92-a6c4dae69d19",
        "_uuid": "8f2839f25d086af736a60e9eeb907d3b93b6e0e5",
        "execution": {
          "iopub.execute_input": "2022-03-25T19:23:50.210828Z",
          "iopub.status.busy": "2022-03-25T19:23:50.209385Z",
          "iopub.status.idle": "2022-03-25T19:23:51.389663Z",
          "shell.execute_reply": "2022-03-25T19:23:51.388890Z",
          "shell.execute_reply.started": "2022-03-25T19:08:56.365348Z"
        },
        "papermill": {
          "duration": 1.198218,
          "end_time": "2022-03-25T19:23:51.389829",
          "exception": false,
          "start_time": "2022-03-25T19:23:50.191611",
          "status": "completed"
        },
        "tags": [],
        "id": "0f6636d7"
      },
      "outputs": [],
      "source": [
        "import numpy as np, pandas as pd, datetime as dt\n",
        "import matplotlib.pyplot as plt; plt.style.use('ggplot')\n",
        "import seaborn as sns\n",
        "from collections import defaultdict\n",
        "\n",
        "def iter_to_str(iterable):\n",
        "    return \" \".join(map(lambda x: str(0) + str(x), iterable))\n",
        "\n",
        "def apk(actual, predicted, k=12):\n",
        "    if len(predicted) > k:\n",
        "        predicted = predicted[:k]\n",
        "    score, nhits = 0.0, 0.0\n",
        "    for i, p in enumerate(predicted):\n",
        "        if p in actual and p not in predicted[:i]:\n",
        "            nhits += 1.0\n",
        "            score += nhits / (i + 1.0)\n",
        "    if not actual:\n",
        "        return 0.0\n",
        "    return score / min(len(actual), k)\n",
        "\n",
        "def mapk(actual, predicted, k=12, return_apks=False):\n",
        "    assert len(actual) == len(predicted)\n",
        "    apks = [apk(ac, pr, k) for ac, pr in zip(actual, predicted) if 0 < len(ac)]\n",
        "    if return_apks:\n",
        "        return apks\n",
        "    return np.mean(apks)\n",
        "\n",
        "def blend(dt, w=[], k=12):\n",
        "    if len(w) == 0:\n",
        "        w = [1] * (len(dt))\n",
        "    preds = []\n",
        "    for i in range(len(w)):\n",
        "        preds.append(dt[i].split())\n",
        "    res = {}\n",
        "    for i in range(len(preds)):\n",
        "        if w[i] < 0:\n",
        "            continue\n",
        "        for n, v in enumerate(preds[i]):\n",
        "            if v in res:\n",
        "                res[v] += (w[i] / (n + 1))\n",
        "            else:\n",
        "                res[v] = (w[i] / (n + 1))    \n",
        "    res = list(dict(sorted(res.items(), key=lambda item: -item[1])).keys())\n",
        "    return ' '.join(res[:k])\n",
        "\n",
        "def prune(pred, ok_set, k=12):\n",
        "    pred = pred.split()\n",
        "    post = []\n",
        "    for item in pred:\n",
        "        if int(item) in ok_set and not item in post:\n",
        "            post.append(item)\n",
        "    return \" \".join(post[:k])\n",
        "\n",
        "def validation(actual, predicted, grouping, score=0, index=-1, ignore=False, figsize=(12, 6)):\n",
        "    # actual, predicted : list of lists\n",
        "    # group : pandas Series\n",
        "    # score : pandas DataFrame\n",
        "    if ignore: return\n",
        "    ap12 = mapk(actual, predicted, return_apks=True)\n",
        "    map12 = round(np.mean(ap12), 6)\n",
        "    if isinstance(score, int): score = pd.DataFrame({g:[] for g in sorted(grouping.unique().tolist())})\n",
        "    if index == -1 : index = score.shape[0]\n",
        "    score.loc[index, \"All\"] = map12\n",
        "    plt.figure(figsize=figsize)\n",
        "    plt.subplot(1, 2, 1); sns.histplot(data=ap12, log_scale=(0, 10), bins=20); plt.title(f\"MAP@12 : {map12}\")\n",
        "    for g in grouping.unique():\n",
        "        map12 = round(mapk(actual[grouping == g], predicted[grouping == g]), 6)\n",
        "        score.loc[index, g] = map12\n",
        "    plt.subplot(1, 2, 2); score[[g for g in grouping.unique()[::-1]] + ['All']].loc[index].plot.barh(); plt.title(f\"MAP@12 of Groups\")\n",
        "    vc = pd.Series(predicted).apply(len).value_counts()\n",
        "    display(score)\n",
        "    return score"
      ]
    },
    {
      "cell_type": "markdown",
      "id": "8284eed9",
      "metadata": {
        "papermill": {
          "duration": 0.015568,
          "end_time": "2022-03-25T19:23:51.420133",
          "exception": false,
          "start_time": "2022-03-25T19:23:51.404565",
          "status": "completed"
        },
        "tags": [],
        "id": "8284eed9"
      },
      "source": [
        "### Data"
      ]
    },
    {
      "cell_type": "code",
      "execution_count": null,
      "id": "9a4cfea2",
      "metadata": {
        "_cell_guid": "b1076dfc-b9ad-4769-8c92-a6c4dae69d19",
        "_uuid": "8f2839f25d086af736a60e9eeb907d3b93b6e0e5",
        "execution": {
          "iopub.execute_input": "2022-03-25T19:23:51.456622Z",
          "iopub.status.busy": "2022-03-25T19:23:51.455950Z",
          "iopub.status.idle": "2022-03-25T19:24:03.057618Z",
          "shell.execute_reply": "2022-03-25T19:24:03.056846Z",
          "shell.execute_reply.started": "2022-03-25T19:08:56.409204Z"
        },
        "papermill": {
          "duration": 11.622123,
          "end_time": "2022-03-25T19:24:03.057776",
          "exception": false,
          "start_time": "2022-03-25T19:23:51.435653",
          "status": "completed"
        },
        "tags": [],
        "id": "9a4cfea2"
      },
      "outputs": [],
      "source": [
        "df = pd.read_parquet('/content/drive/MyDrive/Project_Data/Parquet/transactions_train.parquet')\n",
        "sub = pd.read_csv('/content/drive/MyDrive/Project_Data/sample_submission.csv')\n",
        "cid = pd.DataFrame(sub.customer_id.apply(lambda s: int(s[-16:], 16)))"
      ]
    },
    {
      "cell_type": "markdown",
      "id": "0fc00898",
      "metadata": {
        "papermill": {
          "duration": 0.01436,
          "end_time": "2022-03-25T19:24:03.086972",
          "exception": false,
          "start_time": "2022-03-25T19:24:03.072612",
          "status": "completed"
        },
        "tags": [],
        "id": "0fc00898"
      },
      "source": [
        "### Definition of Groups"
      ]
    },
    {
      "cell_type": "code",
      "execution_count": null,
      "id": "8c896e2a",
      "metadata": {
        "_cell_guid": "b1076dfc-b9ad-4769-8c92-a6c4dae69d19",
        "_uuid": "8f2839f25d086af736a60e9eeb907d3b93b6e0e5",
        "execution": {
          "iopub.execute_input": "2022-03-25T19:24:03.122554Z",
          "iopub.status.busy": "2022-03-25T19:24:03.121738Z",
          "iopub.status.idle": "2022-03-25T19:24:06.906373Z",
          "shell.execute_reply": "2022-03-25T19:24:06.905814Z",
          "shell.execute_reply.started": "2022-03-25T19:09:04.146619Z"
        },
        "papermill": {
          "duration": 3.804987,
          "end_time": "2022-03-25T19:24:06.906539",
          "exception": false,
          "start_time": "2022-03-25T19:24:03.101552",
          "status": "completed"
        },
        "tags": [],
        "id": "8c896e2a"
      },
      "outputs": [],
      "source": [
        "group = df.groupby('customer_id').sales_channel_id.mean().round().reset_index()\\\n",
        "    .merge(cid, on='customer_id', how='right').rename(columns={'sales_channel_id':'group'})\n",
        "grouping = group.group.fillna(1.0)"
      ]
    },
    {
      "cell_type": "markdown",
      "id": "2c0f4db2",
      "metadata": {
        "papermill": {
          "duration": 0.014209,
          "end_time": "2022-03-25T19:24:06.935759",
          "exception": false,
          "start_time": "2022-03-25T19:24:06.921550",
          "status": "completed"
        },
        "tags": [],
        "id": "2c0f4db2"
      },
      "source": [
        "### One-Week Hold Out"
      ]
    },
    {
      "cell_type": "code",
      "execution_count": null,
      "id": "623e6182",
      "metadata": {
        "execution": {
          "iopub.execute_input": "2022-03-25T19:24:06.967817Z",
          "iopub.status.busy": "2022-03-25T19:24:06.967224Z",
          "iopub.status.idle": "2022-03-25T19:24:12.159738Z",
          "shell.execute_reply": "2022-03-25T19:24:12.159231Z",
          "shell.execute_reply.started": "2022-03-25T19:09:07.565811Z"
        },
        "papermill": {
          "duration": 5.209567,
          "end_time": "2022-03-25T19:24:12.159893",
          "exception": false,
          "start_time": "2022-03-25T19:24:06.950326",
          "status": "completed"
        },
        "tags": [],
        "id": "623e6182"
      },
      "outputs": [],
      "source": [
        "val_week = 104\n",
        "# id of week to be used in a validation; set 105 to create a submission\n",
        "val = df.loc[df.week == val_week].groupby('customer_id').article_id.apply(iter_to_str).reset_index()\\\n",
        "    .merge(cid, on='customer_id', how='right')\n",
        "actual = val.article_id.apply(lambda s: [] if pd.isna(s) else s.split())\n",
        "last_date = df.loc[df.week < val_week].t_dat.max()"
      ]
    },
    {
      "cell_type": "markdown",
      "id": "318027ad",
      "metadata": {
        "papermill": {
          "duration": 0.014431,
          "end_time": "2022-03-25T19:24:12.188830",
          "exception": false,
          "start_time": "2022-03-25T19:24:12.174399",
          "status": "completed"
        },
        "tags": [],
        "id": "318027ad"
      },
      "source": [
        "### Last Purchased Items"
      ]
    },
    {
      "cell_type": "code",
      "execution_count": null,
      "id": "94dda66a",
      "metadata": {
        "execution": {
          "iopub.execute_input": "2022-03-25T19:24:12.227989Z",
          "iopub.status.busy": "2022-03-25T19:24:12.227366Z",
          "iopub.status.idle": "2022-03-25T19:24:58.023204Z",
          "shell.execute_reply": "2022-03-25T19:24:58.022688Z",
          "shell.execute_reply.started": "2022-03-25T19:09:14.289935Z"
        },
        "papermill": {
          "duration": 45.818284,
          "end_time": "2022-03-25T19:24:58.023358",
          "exception": false,
          "start_time": "2022-03-25T19:24:12.205074",
          "status": "completed"
        },
        "tags": [],
        "colab": {
          "base_uri": "https://localhost:8080/",
          "height": 455
        },
        "id": "94dda66a",
        "outputId": "c0adbd3b-8d6d-43e2-e87d-f1942da20a0d"
      },
      "outputs": [
        {
          "output_type": "display_data",
          "data": {
            "text/plain": [
              "                    1.0       2.0       All\n",
              "Last Purchase  0.012807  0.024439  0.020594"
            ],
            "text/html": [
              "\n",
              "  <div id=\"df-36557c90-5a86-46ac-ab58-112d22ffa257\">\n",
              "    <div class=\"colab-df-container\">\n",
              "      <div>\n",
              "<style scoped>\n",
              "    .dataframe tbody tr th:only-of-type {\n",
              "        vertical-align: middle;\n",
              "    }\n",
              "\n",
              "    .dataframe tbody tr th {\n",
              "        vertical-align: top;\n",
              "    }\n",
              "\n",
              "    .dataframe thead th {\n",
              "        text-align: right;\n",
              "    }\n",
              "</style>\n",
              "<table border=\"1\" class=\"dataframe\">\n",
              "  <thead>\n",
              "    <tr style=\"text-align: right;\">\n",
              "      <th></th>\n",
              "      <th>1.0</th>\n",
              "      <th>2.0</th>\n",
              "      <th>All</th>\n",
              "    </tr>\n",
              "  </thead>\n",
              "  <tbody>\n",
              "    <tr>\n",
              "      <th>Last Purchase</th>\n",
              "      <td>0.012807</td>\n",
              "      <td>0.024439</td>\n",
              "      <td>0.020594</td>\n",
              "    </tr>\n",
              "  </tbody>\n",
              "</table>\n",
              "</div>\n",
              "      <button class=\"colab-df-convert\" onclick=\"convertToInteractive('df-36557c90-5a86-46ac-ab58-112d22ffa257')\"\n",
              "              title=\"Convert this dataframe to an interactive table.\"\n",
              "              style=\"display:none;\">\n",
              "        \n",
              "  <svg xmlns=\"http://www.w3.org/2000/svg\" height=\"24px\"viewBox=\"0 0 24 24\"\n",
              "       width=\"24px\">\n",
              "    <path d=\"M0 0h24v24H0V0z\" fill=\"none\"/>\n",
              "    <path d=\"M18.56 5.44l.94 2.06.94-2.06 2.06-.94-2.06-.94-.94-2.06-.94 2.06-2.06.94zm-11 1L8.5 8.5l.94-2.06 2.06-.94-2.06-.94L8.5 2.5l-.94 2.06-2.06.94zm10 10l.94 2.06.94-2.06 2.06-.94-2.06-.94-.94-2.06-.94 2.06-2.06.94z\"/><path d=\"M17.41 7.96l-1.37-1.37c-.4-.4-.92-.59-1.43-.59-.52 0-1.04.2-1.43.59L10.3 9.45l-7.72 7.72c-.78.78-.78 2.05 0 2.83L4 21.41c.39.39.9.59 1.41.59.51 0 1.02-.2 1.41-.59l7.78-7.78 2.81-2.81c.8-.78.8-2.07 0-2.86zM5.41 20L4 18.59l7.72-7.72 1.47 1.35L5.41 20z\"/>\n",
              "  </svg>\n",
              "      </button>\n",
              "      \n",
              "  <style>\n",
              "    .colab-df-container {\n",
              "      display:flex;\n",
              "      flex-wrap:wrap;\n",
              "      gap: 12px;\n",
              "    }\n",
              "\n",
              "    .colab-df-convert {\n",
              "      background-color: #E8F0FE;\n",
              "      border: none;\n",
              "      border-radius: 50%;\n",
              "      cursor: pointer;\n",
              "      display: none;\n",
              "      fill: #1967D2;\n",
              "      height: 32px;\n",
              "      padding: 0 0 0 0;\n",
              "      width: 32px;\n",
              "    }\n",
              "\n",
              "    .colab-df-convert:hover {\n",
              "      background-color: #E2EBFA;\n",
              "      box-shadow: 0px 1px 2px rgba(60, 64, 67, 0.3), 0px 1px 3px 1px rgba(60, 64, 67, 0.15);\n",
              "      fill: #174EA6;\n",
              "    }\n",
              "\n",
              "    [theme=dark] .colab-df-convert {\n",
              "      background-color: #3B4455;\n",
              "      fill: #D2E3FC;\n",
              "    }\n",
              "\n",
              "    [theme=dark] .colab-df-convert:hover {\n",
              "      background-color: #434B5C;\n",
              "      box-shadow: 0px 1px 3px 1px rgba(0, 0, 0, 0.15);\n",
              "      filter: drop-shadow(0px 1px 2px rgba(0, 0, 0, 0.3));\n",
              "      fill: #FFFFFF;\n",
              "    }\n",
              "  </style>\n",
              "\n",
              "      <script>\n",
              "        const buttonEl =\n",
              "          document.querySelector('#df-36557c90-5a86-46ac-ab58-112d22ffa257 button.colab-df-convert');\n",
              "        buttonEl.style.display =\n",
              "          google.colab.kernel.accessAllowed ? 'block' : 'none';\n",
              "\n",
              "        async function convertToInteractive(key) {\n",
              "          const element = document.querySelector('#df-36557c90-5a86-46ac-ab58-112d22ffa257');\n",
              "          const dataTable =\n",
              "            await google.colab.kernel.invokeFunction('convertToInteractive',\n",
              "                                                     [key], {});\n",
              "          if (!dataTable) return;\n",
              "\n",
              "          const docLinkHtml = 'Like what you see? Visit the ' +\n",
              "            '<a target=\"_blank\" href=https://colab.research.google.com/notebooks/data_table.ipynb>data table notebook</a>'\n",
              "            + ' to learn more about interactive tables.';\n",
              "          element.innerHTML = '';\n",
              "          dataTable['output_type'] = 'display_data';\n",
              "          await google.colab.output.renderOutput(dataTable, element);\n",
              "          const docLink = document.createElement('div');\n",
              "          docLink.innerHTML = docLinkHtml;\n",
              "          element.appendChild(docLink);\n",
              "        }\n",
              "      </script>\n",
              "    </div>\n",
              "  </div>\n",
              "  "
            ]
          },
          "metadata": {}
        },
        {
          "output_type": "display_data",
          "data": {
            "text/plain": [
              "<Figure size 864x432 with 2 Axes>"
            ],
            "image/png": "[encoded data removed]"
          },
          "metadata": {}
        }
      ],
      "source": [
        "init_date = last_date - dt.timedelta(days=9999)\n",
        "train = df.loc[(df.t_dat >= init_date) & (df.t_dat <= last_date)].copy()\n",
        "train = train.merge(train.groupby('customer_id').t_dat.max().reset_index().rename(columns={'t_dat':'l_dat'}),\n",
        "                   on = 'customer_id', how='left')\n",
        "train['d_dat'] = (train.l_dat - train.t_dat).dt.days\n",
        "train = train.loc[train.d_dat < 14].sort_values(['t_dat'], ascending=False).drop_duplicates(['customer_id', 'article_id'])\n",
        "sub['last_purchase'] = train.groupby('customer_id')\\\n",
        "    .article_id.apply(iter_to_str).reset_index()\\\n",
        "    .merge(cid, on='customer_id', how='right').article_id.fillna('')\n",
        "\n",
        "predicted = sub['last_purchase'].apply(lambda s: [] if pd.isna(s) else s.split())\n",
        "score = validation(actual, predicted, grouping, index='Last Purchase', ignore=(val_week == 105))"
      ]
    },
    {
      "cell_type": "markdown",
      "id": "379a2bfa",
      "metadata": {
        "papermill": {
          "duration": 0.015977,
          "end_time": "2022-03-25T19:24:58.055617",
          "exception": false,
          "start_time": "2022-03-25T19:24:58.039640",
          "status": "completed"
        },
        "tags": [],
        "id": "379a2bfa"
      },
      "source": [
        "### Other Colors of Purchased Item"
      ]
    },
    {
      "cell_type": "code",
      "execution_count": null,
      "id": "fd69fe9b",
      "metadata": {
        "execution": {
          "iopub.execute_input": "2022-03-25T19:24:58.098836Z",
          "iopub.status.busy": "2022-03-25T19:24:58.098142Z",
          "iopub.status.idle": "2022-03-25T19:25:22.581368Z",
          "shell.execute_reply": "2022-03-25T19:25:22.581961Z",
          "shell.execute_reply.started": "2022-03-25T19:10:14.587389Z"
        },
        "papermill": {
          "duration": 24.509818,
          "end_time": "2022-03-25T19:25:22.582397",
          "exception": false,
          "start_time": "2022-03-25T19:24:58.072579",
          "status": "completed"
        },
        "tags": [],
        "colab": {
          "base_uri": "https://localhost:8080/",
          "height": 486
        },
        "id": "fd69fe9b",
        "outputId": "612f11a5-7645-4797-f99c-be1c3dbcbe51"
      },
      "outputs": [
        {
          "output_type": "display_data",
          "data": {
            "text/plain": [
              "                    1.0       2.0       All\n",
              "Last Purchase  0.012807  0.024439  0.020594\n",
              "Other Colors   0.005846  0.008675  0.007740"
            ],
            "text/html": [
              "\n",
              "  <div id=\"df-9fce76f7-10c0-4f03-949c-70f48ffb5558\">\n",
              "    <div class=\"colab-df-container\">\n",
              "      <div>\n",
              "<style scoped>\n",
              "    .dataframe tbody tr th:only-of-type {\n",
              "        vertical-align: middle;\n",
              "    }\n",
              "\n",
              "    .dataframe tbody tr th {\n",
              "        vertical-align: top;\n",
              "    }\n",
              "\n",
              "    .dataframe thead th {\n",
              "        text-align: right;\n",
              "    }\n",
              "</style>\n",
              "<table border=\"1\" class=\"dataframe\">\n",
              "  <thead>\n",
              "    <tr style=\"text-align: right;\">\n",
              "      <th></th>\n",
              "      <th>1.0</th>\n",
              "      <th>2.0</th>\n",
              "      <th>All</th>\n",
              "    </tr>\n",
              "  </thead>\n",
              "  <tbody>\n",
              "    <tr>\n",
              "      <th>Last Purchase</th>\n",
              "      <td>0.012807</td>\n",
              "      <td>0.024439</td>\n",
              "      <td>0.020594</td>\n",
              "    </tr>\n",
              "    <tr>\n",
              "      <th>Other Colors</th>\n",
              "      <td>0.005846</td>\n",
              "      <td>0.008675</td>\n",
              "      <td>0.007740</td>\n",
              "    </tr>\n",
              "  </tbody>\n",
              "</table>\n",
              "</div>\n",
              "      <button class=\"colab-df-convert\" onclick=\"convertToInteractive('df-9fce76f7-10c0-4f03-949c-70f48ffb5558')\"\n",
              "              title=\"Convert this dataframe to an interactive table.\"\n",
              "              style=\"display:none;\">\n",
              "        \n",
              "  <svg xmlns=\"http://www.w3.org/2000/svg\" height=\"24px\"viewBox=\"0 0 24 24\"\n",
              "       width=\"24px\">\n",
              "    <path d=\"M0 0h24v24H0V0z\" fill=\"none\"/>\n",
              "    <path d=\"M18.56 5.44l.94 2.06.94-2.06 2.06-.94-2.06-.94-.94-2.06-.94 2.06-2.06.94zm-11 1L8.5 8.5l.94-2.06 2.06-.94-2.06-.94L8.5 2.5l-.94 2.06-2.06.94zm10 10l.94 2.06.94-2.06 2.06-.94-2.06-.94-.94-2.06-.94 2.06-2.06.94z\"/><path d=\"M17.41 7.96l-1.37-1.37c-.4-.4-.92-.59-1.43-.59-.52 0-1.04.2-1.43.59L10.3 9.45l-7.72 7.72c-.78.78-.78 2.05 0 2.83L4 21.41c.39.39.9.59 1.41.59.51 0 1.02-.2 1.41-.59l7.78-7.78 2.81-2.81c.8-.78.8-2.07 0-2.86zM5.41 20L4 18.59l7.72-7.72 1.47 1.35L5.41 20z\"/>\n",
              "  </svg>\n",
              "      </button>\n",
              "      \n",
              "  <style>\n",
              "    .colab-df-container {\n",
              "      display:flex;\n",
              "      flex-wrap:wrap;\n",
              "      gap: 12px;\n",
              "    }\n",
              "\n",
              "    .colab-df-convert {\n",
              "      background-color: #E8F0FE;\n",
              "      border: none;\n",
              "      border-radius: 50%;\n",
              "      cursor: pointer;\n",
              "      display: none;\n",
              "      fill: #1967D2;\n",
              "      height: 32px;\n",
              "      padding: 0 0 0 0;\n",
              "      width: 32px;\n",
              "    }\n",
              "\n",
              "    .colab-df-convert:hover {\n",
              "      background-color: #E2EBFA;\n",
              "      box-shadow: 0px 1px 2px rgba(60, 64, 67, 0.3), 0px 1px 3px 1px rgba(60, 64, 67, 0.15);\n",
              "      fill: #174EA6;\n",
              "    }\n",
              "\n",
              "    [theme=dark] .colab-df-convert {\n",
              "      background-color: #3B4455;\n",
              "      fill: #D2E3FC;\n",
              "    }\n",
              "\n",
              "    [theme=dark] .colab-df-convert:hover {\n",
              "      background-color: #434B5C;\n",
              "      box-shadow: 0px 1px 3px 1px rgba(0, 0, 0, 0.15);\n",
              "      filter: drop-shadow(0px 1px 2px rgba(0, 0, 0, 0.3));\n",
              "      fill: #FFFFFF;\n",
              "    }\n",
              "  </style>\n",
              "\n",
              "      <script>\n",
              "        const buttonEl =\n",
              "          document.querySelector('#df-9fce76f7-10c0-4f03-949c-70f48ffb5558 button.colab-df-convert');\n",
              "        buttonEl.style.display =\n",
              "          google.colab.kernel.accessAllowed ? 'block' : 'none';\n",
              "\n",
              "        async function convertToInteractive(key) {\n",
              "          const element = document.querySelector('#df-9fce76f7-10c0-4f03-949c-70f48ffb5558');\n",
              "          const dataTable =\n",
              "            await google.colab.kernel.invokeFunction('convertToInteractive',\n",
              "                                                     [key], {});\n",
              "          if (!dataTable) return;\n",
              "\n",
              "          const docLinkHtml = 'Like what you see? Visit the ' +\n",
              "            '<a target=\"_blank\" href=https://colab.research.google.com/notebooks/data_table.ipynb>data table notebook</a>'\n",
              "            + ' to learn more about interactive tables.';\n",
              "          element.innerHTML = '';\n",
              "          dataTable['output_type'] = 'display_data';\n",
              "          await google.colab.output.renderOutput(dataTable, element);\n",
              "          const docLink = document.createElement('div');\n",
              "          docLink.innerHTML = docLinkHtml;\n",
              "          element.appendChild(docLink);\n",
              "        }\n",
              "      </script>\n",
              "    </div>\n",
              "  </div>\n",
              "  "
            ]
          },
          "metadata": {}
        },
        {
          "output_type": "display_data",
          "data": {
            "text/plain": [
              "<Figure size 864x432 with 2 Axes>"
            ],
            "image/png": "[encoded data removed]"
          },
          "metadata": {}
        }
      ],
      "source": [
        "init_date = last_date - dt.timedelta(days=6)\n",
        "train = df.loc[(df.t_dat >= init_date) & (df.t_dat <= last_date)].copy()\\\n",
        "    .groupby(['article_id']).t_dat.count().reset_index()\n",
        "adf = pd.read_parquet('/content/drive/MyDrive/Project_Data/Parquet/articles.parquet')\n",
        "adf = adf.merge(train, on='article_id', how='left').rename(columns={'t_dat':'ct'})\\\n",
        "    .sort_values('ct', ascending=False).query('ct > 0')\n",
        "\n",
        "map_to_col = defaultdict(list)\n",
        "for aid in adf.article_id.tolist():\n",
        "    map_to_col[aid] = list(filter(lambda x: x != aid, adf[adf.product_code == aid // 1000].article_id.tolist()))[:1]\n",
        "\n",
        "def map_to_variation(s):\n",
        "    f = lambda item: iter_to_str(map_to_col[int(item)])\n",
        "    return ' '.join(map(f, s.split()))\n",
        "sub['other_colors'] = sub['last_purchase'].fillna('').apply(map_to_variation)\n",
        "\n",
        "predicted = sub['other_colors'].apply(lambda s: [] if pd.isna(s) else s.split())\n",
        "score = validation(actual, predicted, grouping, score, index='Other Colors', ignore=(val_week == 105))"
      ]
    },
    {
      "cell_type": "markdown",
      "id": "b44e9414",
      "metadata": {
        "papermill": {
          "duration": 0.017352,
          "end_time": "2022-03-25T19:25:22.619266",
          "exception": false,
          "start_time": "2022-03-25T19:25:22.601914",
          "status": "completed"
        },
        "tags": [],
        "id": "b44e9414"
      },
      "source": [
        "### Popular Items for Each Group"
      ]
    },
    {
      "cell_type": "code",
      "execution_count": null,
      "id": "708986ff",
      "metadata": {
        "execution": {
          "iopub.execute_input": "2022-03-25T19:25:22.665467Z",
          "iopub.status.busy": "2022-03-25T19:25:22.663836Z",
          "iopub.status.idle": "2022-03-25T19:25:30.703828Z",
          "shell.execute_reply": "2022-03-25T19:25:30.703163Z",
          "shell.execute_reply.started": "2022-03-25T19:10:47.575132Z"
        },
        "papermill": {
          "duration": 8.067255,
          "end_time": "2022-03-25T19:25:30.703969",
          "exception": false,
          "start_time": "2022-03-25T19:25:22.636714",
          "status": "completed"
        },
        "tags": [],
        "colab": {
          "base_uri": "https://localhost:8080/",
          "height": 517
        },
        "id": "708986ff",
        "outputId": "863d018b-ec54-4342-efe3-90bd0b87816b"
      },
      "outputs": [
        {
          "output_type": "display_data",
          "data": {
            "text/plain": [
              "                    1.0       2.0       All\n",
              "Last Purchase  0.012807  0.024439  0.020594\n",
              "Other Colors   0.005846  0.008675  0.007740\n",
              "Popular Items  0.009144  0.008807  0.008918"
            ],
            "text/html": [
              "\n",
              "  <div id=\"df-c3c4b44d-8c2a-41f2-b466-4abd5d4bd113\">\n",
              "    <div class=\"colab-df-container\">\n",
              "      <div>\n",
              "<style scoped>\n",
              "    .dataframe tbody tr th:only-of-type {\n",
              "        vertical-align: middle;\n",
              "    }\n",
              "\n",
              "    .dataframe tbody tr th {\n",
              "        vertical-align: top;\n",
              "    }\n",
              "\n",
              "    .dataframe thead th {\n",
              "        text-align: right;\n",
              "    }\n",
              "</style>\n",
              "<table border=\"1\" class=\"dataframe\">\n",
              "  <thead>\n",
              "    <tr style=\"text-align: right;\">\n",
              "      <th></th>\n",
              "      <th>1.0</th>\n",
              "      <th>2.0</th>\n",
              "      <th>All</th>\n",
              "    </tr>\n",
              "  </thead>\n",
              "  <tbody>\n",
              "    <tr>\n",
              "      <th>Last Purchase</th>\n",
              "      <td>0.012807</td>\n",
              "      <td>0.024439</td>\n",
              "      <td>0.020594</td>\n",
              "    </tr>\n",
              "    <tr>\n",
              "      <th>Other Colors</th>\n",
              "      <td>0.005846</td>\n",
              "      <td>0.008675</td>\n",
              "      <td>0.007740</td>\n",
              "    </tr>\n",
              "    <tr>\n",
              "      <th>Popular Items</th>\n",
              "      <td>0.009144</td>\n",
              "      <td>0.008807</td>\n",
              "      <td>0.008918</td>\n",
              "    </tr>\n",
              "  </tbody>\n",
              "</table>\n",
              "</div>\n",
              "      <button class=\"colab-df-convert\" onclick=\"convertToInteractive('df-c3c4b44d-8c2a-41f2-b466-4abd5d4bd113')\"\n",
              "              title=\"Convert this dataframe to an interactive table.\"\n",
              "              style=\"display:none;\">\n",
              "        \n",
              "  <svg xmlns=\"http://www.w3.org/2000/svg\" height=\"24px\"viewBox=\"0 0 24 24\"\n",
              "       width=\"24px\">\n",
              "    <path d=\"M0 0h24v24H0V0z\" fill=\"none\"/>\n",
              "    <path d=\"M18.56 5.44l.94 2.06.94-2.06 2.06-.94-2.06-.94-.94-2.06-.94 2.06-2.06.94zm-11 1L8.5 8.5l.94-2.06 2.06-.94-2.06-.94L8.5 2.5l-.94 2.06-2.06.94zm10 10l.94 2.06.94-2.06 2.06-.94-2.06-.94-.94-2.06-.94 2.06-2.06.94z\"/><path d=\"M17.41 7.96l-1.37-1.37c-.4-.4-.92-.59-1.43-.59-.52 0-1.04.2-1.43.59L10.3 9.45l-7.72 7.72c-.78.78-.78 2.05 0 2.83L4 21.41c.39.39.9.59 1.41.59.51 0 1.02-.2 1.41-.59l7.78-7.78 2.81-2.81c.8-.78.8-2.07 0-2.86zM5.41 20L4 18.59l7.72-7.72 1.47 1.35L5.41 20z\"/>\n",
              "  </svg>\n",
              "      </button>\n",
              "      \n",
              "  <style>\n",
              "    .colab-df-container {\n",
              "      display:flex;\n",
              "      flex-wrap:wrap;\n",
              "      gap: 12px;\n",
              "    }\n",
              "\n",
              "    .colab-df-convert {\n",
              "      background-color: #E8F0FE;\n",
              "      border: none;\n",
              "      border-radius: 50%;\n",
              "      cursor: pointer;\n",
              "      display: none;\n",
              "      fill: #1967D2;\n",
              "      height: 32px;\n",
              "      padding: 0 0 0 0;\n",
              "      width: 32px;\n",
              "    }\n",
              "\n",
              "    .colab-df-convert:hover {\n",
              "      background-color: #E2EBFA;\n",
              "      box-shadow: 0px 1px 2px rgba(60, 64, 67, 0.3), 0px 1px 3px 1px rgba(60, 64, 67, 0.15);\n",
              "      fill: #174EA6;\n",
              "    }\n",
              "\n",
              "    [theme=dark] .colab-df-convert {\n",
              "      background-color: #3B4455;\n",
              "      fill: #D2E3FC;\n",
              "    }\n",
              "\n",
              "    [theme=dark] .colab-df-convert:hover {\n",
              "      background-color: #434B5C;\n",
              "      box-shadow: 0px 1px 3px 1px rgba(0, 0, 0, 0.15);\n",
              "      filter: drop-shadow(0px 1px 2px rgba(0, 0, 0, 0.3));\n",
              "      fill: #FFFFFF;\n",
              "    }\n",
              "  </style>\n",
              "\n",
              "      <script>\n",
              "        const buttonEl =\n",
              "          document.querySelector('#df-c3c4b44d-8c2a-41f2-b466-4abd5d4bd113 button.colab-df-convert');\n",
              "        buttonEl.style.display =\n",
              "          google.colab.kernel.accessAllowed ? 'block' : 'none';\n",
              "\n",
              "        async function convertToInteractive(key) {\n",
              "          const element = document.querySelector('#df-c3c4b44d-8c2a-41f2-b466-4abd5d4bd113');\n",
              "          const dataTable =\n",
              "            await google.colab.kernel.invokeFunction('convertToInteractive',\n",
              "                                                     [key], {});\n",
              "          if (!dataTable) return;\n",
              "\n",
              "          const docLinkHtml = 'Like what you see? Visit the ' +\n",
              "            '<a target=\"_blank\" href=https://colab.research.google.com/notebooks/data_table.ipynb>data table notebook</a>'\n",
              "            + ' to learn more about interactive tables.';\n",
              "          element.innerHTML = '';\n",
              "          dataTable['output_type'] = 'display_data';\n",
              "          await google.colab.output.renderOutput(dataTable, element);\n",
              "          const docLink = document.createElement('div');\n",
              "          docLink.innerHTML = docLinkHtml;\n",
              "          element.appendChild(docLink);\n",
              "        }\n",
              "      </script>\n",
              "    </div>\n",
              "  </div>\n",
              "  "
            ]
          },
          "metadata": {}
        },
        {
          "output_type": "display_data",
          "data": {
            "text/plain": [
              "<Figure size 864x432 with 2 Axes>"
            ],
            "image/png": "[encoded data removed]"
          },
          "metadata": {}
        }
      ],
      "source": [
        "init_date = last_date - dt.timedelta(days=5 - 1)\n",
        "group_df = pd.concat([cid, group.group.fillna(1)], axis=1) # grouping can be changed\n",
        "group_df.columns = ['customer_id', 'group']\n",
        "train = df.loc[(df.t_dat >= init_date) & (df.t_dat <= last_date)].copy()\\\n",
        "    .merge(group_df, on='customer_id', how='left')\\\n",
        "    .groupby(['group', 'article_id']).t_dat.count().reset_index()\n",
        "items = defaultdict(str)\n",
        "for g in train.group.unique():\n",
        "    items[g] = iter_to_str(train.loc[train.group == g].sort_values('t_dat', ascending=False).article_id.tolist()[:12])\n",
        "\n",
        "sub['popular_items'] = group_df.group.map(items)\n",
        "\n",
        "predicted = sub['popular_items'].apply(lambda s: [] if pd.isna(s) else s.split())\n",
        "score = validation(actual, predicted, grouping, score, index='Popular Items', ignore=(val_week == 105))"
      ]
    },
    {
      "cell_type": "markdown",
      "id": "800f489d",
      "metadata": {
        "papermill": {
          "duration": 0.019986,
          "end_time": "2022-03-25T19:25:30.743701",
          "exception": false,
          "start_time": "2022-03-25T19:25:30.723715",
          "status": "completed"
        },
        "tags": [],
        "id": "800f489d"
      },
      "source": [
        "### Blend Predictions"
      ]
    },
    {
      "cell_type": "code",
      "execution_count": null,
      "id": "420914bb",
      "metadata": {
        "execution": {
          "iopub.execute_input": "2022-03-25T19:25:30.785947Z",
          "iopub.status.busy": "2022-03-25T19:25:30.785328Z",
          "iopub.status.idle": "2022-03-25T19:25:31.102430Z",
          "shell.execute_reply": "2022-03-25T19:25:31.101676Z",
          "shell.execute_reply.started": "2022-03-25T19:10:59.466961Z"
        },
        "papermill": {
          "duration": 0.339957,
          "end_time": "2022-03-25T19:25:31.102656",
          "exception": false,
          "start_time": "2022-03-25T19:25:30.762699",
          "status": "completed"
        },
        "tags": [],
        "id": "420914bb"
      },
      "outputs": [],
      "source": [
        "init_date = last_date - dt.timedelta(days=11)\n",
        "sold_set = set(df.loc[(df.t_dat >= init_date) & (df.t_dat <= last_date)].article_id.tolist())"
      ]
    },
    {
      "cell_type": "code",
      "execution_count": null,
      "id": "4793c53c",
      "metadata": {
        "execution": {
          "iopub.execute_input": "2022-03-25T19:25:31.771161Z",
          "iopub.status.busy": "2022-03-25T19:25:31.404644Z",
          "iopub.status.idle": "2022-03-25T19:26:25.563723Z",
          "shell.execute_reply": "2022-03-25T19:26:25.564246Z",
          "shell.execute_reply.started": "2022-03-25T19:10:59.773003Z"
        },
        "papermill": {
          "duration": 54.440291,
          "end_time": "2022-03-25T19:26:25.564436",
          "exception": false,
          "start_time": "2022-03-25T19:25:31.124145",
          "status": "completed"
        },
        "tags": [],
        "colab": {
          "base_uri": "https://localhost:8080/",
          "height": 549
        },
        "id": "4793c53c",
        "outputId": "a67db107-60e8-4f2c-dfbe-b2d7f2bbdd4e"
      },
      "outputs": [
        {
          "output_type": "display_data",
          "data": {
            "text/plain": [
              "                    1.0       2.0       All\n",
              "Last Purchase  0.012807  0.024439  0.020594\n",
              "Other Colors   0.005846  0.008675  0.007740\n",
              "Popular Items  0.009144  0.008807  0.008918\n",
              "Prediction     0.018279  0.029840  0.026018"
            ],
            "text/html": [
              "\n",
              "  <div id=\"df-557340dd-58d8-411f-a0b3-907a08bf278e\">\n",
              "    <div class=\"colab-df-container\">\n",
              "      <div>\n",
              "<style scoped>\n",
              "    .dataframe tbody tr th:only-of-type {\n",
              "        vertical-align: middle;\n",
              "    }\n",
              "\n",
              "    .dataframe tbody tr th {\n",
              "        vertical-align: top;\n",
              "    }\n",
              "\n",
              "    .dataframe thead th {\n",
              "        text-align: right;\n",
              "    }\n",
              "</style>\n",
              "<table border=\"1\" class=\"dataframe\">\n",
              "  <thead>\n",
              "    <tr style=\"text-align: right;\">\n",
              "      <th></th>\n",
              "      <th>1.0</th>\n",
              "      <th>2.0</th>\n",
              "      <th>All</th>\n",
              "    </tr>\n",
              "  </thead>\n",
              "  <tbody>\n",
              "    <tr>\n",
              "      <th>Last Purchase</th>\n",
              "      <td>0.012807</td>\n",
              "      <td>0.024439</td>\n",
              "      <td>0.020594</td>\n",
              "    </tr>\n",
              "    <tr>\n",
              "      <th>Other Colors</th>\n",
              "      <td>0.005846</td>\n",
              "      <td>0.008675</td>\n",
              "      <td>0.007740</td>\n",
              "    </tr>\n",
              "    <tr>\n",
              "      <th>Popular Items</th>\n",
              "      <td>0.009144</td>\n",
              "      <td>0.008807</td>\n",
              "      <td>0.008918</td>\n",
              "    </tr>\n",
              "    <tr>\n",
              "      <th>Prediction</th>\n",
              "      <td>0.018279</td>\n",
              "      <td>0.029840</td>\n",
              "      <td>0.026018</td>\n",
              "    </tr>\n",
              "  </tbody>\n",
              "</table>\n",
              "</div>\n",
              "      <button class=\"colab-df-convert\" onclick=\"convertToInteractive('df-557340dd-58d8-411f-a0b3-907a08bf278e')\"\n",
              "              title=\"Convert this dataframe to an interactive table.\"\n",
              "              style=\"display:none;\">\n",
              "        \n",
              "  <svg xmlns=\"http://www.w3.org/2000/svg\" height=\"24px\"viewBox=\"0 0 24 24\"\n",
              "       width=\"24px\">\n",
              "    <path d=\"M0 0h24v24H0V0z\" fill=\"none\"/>\n",
              "    <path d=\"M18.56 5.44l.94 2.06.94-2.06 2.06-.94-2.06-.94-.94-2.06-.94 2.06-2.06.94zm-11 1L8.5 8.5l.94-2.06 2.06-.94-2.06-.94L8.5 2.5l-.94 2.06-2.06.94zm10 10l.94 2.06.94-2.06 2.06-.94-2.06-.94-.94-2.06-.94 2.06-2.06.94z\"/><path d=\"M17.41 7.96l-1.37-1.37c-.4-.4-.92-.59-1.43-.59-.52 0-1.04.2-1.43.59L10.3 9.45l-7.72 7.72c-.78.78-.78 2.05 0 2.83L4 21.41c.39.39.9.59 1.41.59.51 0 1.02-.2 1.41-.59l7.78-7.78 2.81-2.81c.8-.78.8-2.07 0-2.86zM5.41 20L4 18.59l7.72-7.72 1.47 1.35L5.41 20z\"/>\n",
              "  </svg>\n",
              "      </button>\n",
              "      \n",
              "  <style>\n",
              "    .colab-df-container {\n",
              "      display:flex;\n",
              "      flex-wrap:wrap;\n",
              "      gap: 12px;\n",
              "    }\n",
              "\n",
              "    .colab-df-convert {\n",
              "      background-color: #E8F0FE;\n",
              "      border: none;\n",
              "      border-radius: 50%;\n",
              "      cursor: pointer;\n",
              "      display: none;\n",
              "      fill: #1967D2;\n",
              "      height: 32px;\n",
              "      padding: 0 0 0 0;\n",
              "      width: 32px;\n",
              "    }\n",
              "\n",
              "    .colab-df-convert:hover {\n",
              "      background-color: #E2EBFA;\n",
              "      box-shadow: 0px 1px 2px rgba(60, 64, 67, 0.3), 0px 1px 3px 1px rgba(60, 64, 67, 0.15);\n",
              "      fill: #174EA6;\n",
              "    }\n",
              "\n",
              "    [theme=dark] .colab-df-convert {\n",
              "      background-color: #3B4455;\n",
              "      fill: #D2E3FC;\n",
              "    }\n",
              "\n",
              "    [theme=dark] .colab-df-convert:hover {\n",
              "      background-color: #434B5C;\n",
              "      box-shadow: 0px 1px 3px 1px rgba(0, 0, 0, 0.15);\n",
              "      filter: drop-shadow(0px 1px 2px rgba(0, 0, 0, 0.3));\n",
              "      fill: #FFFFFF;\n",
              "    }\n",
              "  </style>\n",
              "\n",
              "      <script>\n",
              "        const buttonEl =\n",
              "          document.querySelector('#df-557340dd-58d8-411f-a0b3-907a08bf278e button.colab-df-convert');\n",
              "        buttonEl.style.display =\n",
              "          google.colab.kernel.accessAllowed ? 'block' : 'none';\n",
              "\n",
              "        async function convertToInteractive(key) {\n",
              "          const element = document.querySelector('#df-557340dd-58d8-411f-a0b3-907a08bf278e');\n",
              "          const dataTable =\n",
              "            await google.colab.kernel.invokeFunction('convertToInteractive',\n",
              "                                                     [key], {});\n",
              "          if (!dataTable) return;\n",
              "\n",
              "          const docLinkHtml = 'Like what you see? Visit the ' +\n",
              "            '<a target=\"_blank\" href=https://colab.research.google.com/notebooks/data_table.ipynb>data table notebook</a>'\n",
              "            + ' to learn more about interactive tables.';\n",
              "          element.innerHTML = '';\n",
              "          dataTable['output_type'] = 'display_data';\n",
              "          await google.colab.output.renderOutput(dataTable, element);\n",
              "          const docLink = document.createElement('div');\n",
              "          docLink.innerHTML = docLinkHtml;\n",
              "          element.appendChild(docLink);\n",
              "        }\n",
              "      </script>\n",
              "    </div>\n",
              "  </div>\n",
              "  "
            ]
          },
          "metadata": {}
        },
        {
          "output_type": "display_data",
          "data": {
            "text/plain": [
              "<Figure size 864x432 with 2 Axes>"
            ],
            "image/png": "[encoded data removed]"
          },
          "metadata": {}
        }
      ],
      "source": [
        "sub['prediction'] = sub[['last_purchase', 'other_colors', 'popular_items']]\\\n",
        ".apply(blend, w=[100, 10, 1], axis=1, k=32).apply(prune, ok_set=sold_set)\n",
        "predicted = sub.prediction.apply(lambda s: [] if pd.isna(s) else s.split())\n",
        "score = validation(actual, predicted, grouping, score, index='Prediction', ignore=(val_week == 105))"
      ]
    },
    {
      "cell_type": "code",
      "execution_count": null,
      "id": "eb000dcd",
      "metadata": {
        "execution": {
          "iopub.execute_input": "2022-03-25T19:26:25.609664Z",
          "iopub.status.busy": "2022-03-25T19:26:25.609012Z",
          "iopub.status.idle": "2022-03-25T19:26:25.810238Z",
          "shell.execute_reply": "2022-03-25T19:26:25.809393Z",
          "shell.execute_reply.started": "2022-03-25T19:12:16.97463Z"
        },
        "papermill": {
          "duration": 0.224791,
          "end_time": "2022-03-25T19:26:25.810460",
          "exception": false,
          "start_time": "2022-03-25T19:26:25.585669",
          "status": "completed"
        },
        "tags": [],
        "colab": {
          "base_uri": "https://localhost:8080/",
          "height": 299
        },
        "id": "eb000dcd",
        "outputId": "df3d970b-1d06-4e1b-f35f-4d21765216a8"
      },
      "outputs": [
        {
          "output_type": "execute_result",
          "data": {
            "text/plain": [
              "<matplotlib.axes._subplots.AxesSubplot at 0x7fe95d998890>"
            ]
          },
          "metadata": {},
          "execution_count": 15
        },
        {
          "output_type": "display_data",
          "data": {
            "text/plain": [
              "<Figure size 432x288 with 1 Axes>"
            ],
            "image/png": "[encoded data removed]"
          },
          "metadata": {}
        }
      ],
      "source": [
        "sns.barplot(data=score, x='All', y=score.index)"
      ]
    },
    {
      "cell_type": "code",
      "execution_count": null,
      "id": "b27a2614",
      "metadata": {
        "execution": {
          "iopub.execute_input": "2022-03-25T19:26:25.860849Z",
          "iopub.status.busy": "2022-03-25T19:26:25.860127Z",
          "iopub.status.idle": "2022-03-25T19:26:25.863042Z",
          "shell.execute_reply": "2022-03-25T19:26:25.862463Z",
          "shell.execute_reply.started": "2022-03-25T19:12:17.176154Z"
        },
        "papermill": {
          "duration": 0.029555,
          "end_time": "2022-03-25T19:26:25.863177",
          "exception": false,
          "start_time": "2022-03-25T19:26:25.833622",
          "status": "completed"
        },
        "tags": [],
        "id": "b27a2614"
      },
      "outputs": [],
      "source": [
        "if val_week == 105: sub[['customer_id', 'prediction']]"
      ]
    },
    {
      "cell_type": "code",
      "source": [
        "sub[['customer_id', 'prediction']].to_csv(\"sub_val.csv\", index=False)\n"
      ],
      "metadata": {
        "id": "3izCPZKNGUtk"
      },
      "id": "3izCPZKNGUtk",
      "execution_count": null,
      "outputs": []
    },
    {
      "cell_type": "code",
      "source": [
        "import pandas as pd\n",
        "\n",
        "a = pd.read_csv('sub_val.csv')\n",
        "a.head()"
      ],
      "metadata": {
        "colab": {
          "base_uri": "https://localhost:8080/",
          "height": 206
        },
        "id": "Ba3PpXfKbGEx",
        "outputId": "39b858a7-1809-487c-99ba-ad6e2f1ddf3b"
      },
      "id": "Ba3PpXfKbGEx",
      "execution_count": null,
      "outputs": [
        {
          "output_type": "execute_result",
          "data": {
            "text/plain": [
              "                                         customer_id  \\\n",
              "0  00000dbacae5abe5e23885899a1fa44253a17956c6d1c3...   \n",
              "1  0000423b00ade91418cceaf3b26c6af3dd342b51fd051e...   \n",
              "2  000058a12d5b43e67d225668fa1f8d618c13dc232df0ca...   \n",
              "3  00005ca1c9ed5f5146b52ac8639a40ca9d57aeff4d1bd2...   \n",
              "4  00006413d8573cd20ed7128e53b7b13819fe5cfc2d801f...   \n",
              "\n",
              "                                          prediction  \n",
              "0  0568601043 0568601006 0924243001 0865799006 09...  \n",
              "1  0826211002 0924243001 0865799006 0909370001 09...  \n",
              "2  0794321007 0794321011 0924243001 0865799006 09...  \n",
              "3  0924243001 0865799006 0909370001 0923758001 08...  \n",
              "4  0791587015 0927530004 0730683050 0896152002 07...  "
            ],
            "text/html": [
              "\n",
              "  <div id=\"df-b451fc47-8457-41b4-8cb6-e06341a23e62\">\n",
              "    <div class=\"colab-df-container\">\n",
              "      <div>\n",
              "<style scoped>\n",
              "    .dataframe tbody tr th:only-of-type {\n",
              "        vertical-align: middle;\n",
              "    }\n",
              "\n",
              "    .dataframe tbody tr th {\n",
              "        vertical-align: top;\n",
              "    }\n",
              "\n",
              "    .dataframe thead th {\n",
              "        text-align: right;\n",
              "    }\n",
              "</style>\n",
              "<table border=\"1\" class=\"dataframe\">\n",
              "  <thead>\n",
              "    <tr style=\"text-align: right;\">\n",
              "      <th></th>\n",
              "      <th>customer_id</th>\n",
              "      <th>prediction</th>\n",
              "    </tr>\n",
              "  </thead>\n",
              "  <tbody>\n",
              "    <tr>\n",
              "      <th>0</th>\n",
              "      <td>00000dbacae5abe5e23885899a1fa44253a17956c6d1c3...</td>\n",
              "      <td>0568601043 0568601006 0924243001 0865799006 09...</td>\n",
              "    </tr>\n",
              "    <tr>\n",
              "      <th>1</th>\n",
              "      <td>0000423b00ade91418cceaf3b26c6af3dd342b51fd051e...</td>\n",
              "      <td>0826211002 0924243001 0865799006 0909370001 09...</td>\n",
              "    </tr>\n",
              "    <tr>\n",
              "      <th>2</th>\n",
              "      <td>000058a12d5b43e67d225668fa1f8d618c13dc232df0ca...</td>\n",
              "      <td>0794321007 0794321011 0924243001 0865799006 09...</td>\n",
              "    </tr>\n",
              "    <tr>\n",
              "      <th>3</th>\n",
              "      <td>00005ca1c9ed5f5146b52ac8639a40ca9d57aeff4d1bd2...</td>\n",
              "      <td>0924243001 0865799006 0909370001 0923758001 08...</td>\n",
              "    </tr>\n",
              "    <tr>\n",
              "      <th>4</th>\n",
              "      <td>00006413d8573cd20ed7128e53b7b13819fe5cfc2d801f...</td>\n",
              "      <td>0791587015 0927530004 0730683050 0896152002 07...</td>\n",
              "    </tr>\n",
              "  </tbody>\n",
              "</table>\n",
              "</div>\n",
              "      <button class=\"colab-df-convert\" onclick=\"convertToInteractive('df-b451fc47-8457-41b4-8cb6-e06341a23e62')\"\n",
              "              title=\"Convert this dataframe to an interactive table.\"\n",
              "              style=\"display:none;\">\n",
              "        \n",
              "  <svg xmlns=\"http://www.w3.org/2000/svg\" height=\"24px\"viewBox=\"0 0 24 24\"\n",
              "       width=\"24px\">\n",
              "    <path d=\"M0 0h24v24H0V0z\" fill=\"none\"/>\n",
              "    <path d=\"M18.56 5.44l.94 2.06.94-2.06 2.06-.94-2.06-.94-.94-2.06-.94 2.06-2.06.94zm-11 1L8.5 8.5l.94-2.06 2.06-.94-2.06-.94L8.5 2.5l-.94 2.06-2.06.94zm10 10l.94 2.06.94-2.06 2.06-.94-2.06-.94-.94-2.06-.94 2.06-2.06.94z\"/><path d=\"M17.41 7.96l-1.37-1.37c-.4-.4-.92-.59-1.43-.59-.52 0-1.04.2-1.43.59L10.3 9.45l-7.72 7.72c-.78.78-.78 2.05 0 2.83L4 21.41c.39.39.9.59 1.41.59.51 0 1.02-.2 1.41-.59l7.78-7.78 2.81-2.81c.8-.78.8-2.07 0-2.86zM5.41 20L4 18.59l7.72-7.72 1.47 1.35L5.41 20z\"/>\n",
              "  </svg>\n",
              "      </button>\n",
              "      \n",
              "  <style>\n",
              "    .colab-df-container {\n",
              "      display:flex;\n",
              "      flex-wrap:wrap;\n",
              "      gap: 12px;\n",
              "    }\n",
              "\n",
              "    .colab-df-convert {\n",
              "      background-color: #E8F0FE;\n",
              "      border: none;\n",
              "      border-radius: 50%;\n",
              "      cursor: pointer;\n",
              "      display: none;\n",
              "      fill: #1967D2;\n",
              "      height: 32px;\n",
              "      padding: 0 0 0 0;\n",
              "      width: 32px;\n",
              "    }\n",
              "\n",
              "    .colab-df-convert:hover {\n",
              "      background-color: #E2EBFA;\n",
              "      box-shadow: 0px 1px 2px rgba(60, 64, 67, 0.3), 0px 1px 3px 1px rgba(60, 64, 67, 0.15);\n",
              "      fill: #174EA6;\n",
              "    }\n",
              "\n",
              "    [theme=dark] .colab-df-convert {\n",
              "      background-color: #3B4455;\n",
              "      fill: #D2E3FC;\n",
              "    }\n",
              "\n",
              "    [theme=dark] .colab-df-convert:hover {\n",
              "      background-color: #434B5C;\n",
              "      box-shadow: 0px 1px 3px 1px rgba(0, 0, 0, 0.15);\n",
              "      filter: drop-shadow(0px 1px 2px rgba(0, 0, 0, 0.3));\n",
              "      fill: #FFFFFF;\n",
              "    }\n",
              "  </style>\n",
              "\n",
              "      <script>\n",
              "        const buttonEl =\n",
              "          document.querySelector('#df-b451fc47-8457-41b4-8cb6-e06341a23e62 button.colab-df-convert');\n",
              "        buttonEl.style.display =\n",
              "          google.colab.kernel.accessAllowed ? 'block' : 'none';\n",
              "\n",
              "        async function convertToInteractive(key) {\n",
              "          const element = document.querySelector('#df-b451fc47-8457-41b4-8cb6-e06341a23e62');\n",
              "          const dataTable =\n",
              "            await google.colab.kernel.invokeFunction('convertToInteractive',\n",
              "                                                     [key], {});\n",
              "          if (!dataTable) return;\n",
              "\n",
              "          const docLinkHtml = 'Like what you see? Visit the ' +\n",
              "            '<a target=\"_blank\" href=https://colab.research.google.com/notebooks/data_table.ipynb>data table notebook</a>'\n",
              "            + ' to learn more about interactive tables.';\n",
              "          element.innerHTML = '';\n",
              "          dataTable['output_type'] = 'display_data';\n",
              "          await google.colab.output.renderOutput(dataTable, element);\n",
              "          const docLink = document.createElement('div');\n",
              "          docLink.innerHTML = docLinkHtml;\n",
              "          element.appendChild(docLink);\n",
              "        }\n",
              "      </script>\n",
              "    </div>\n",
              "  </div>\n",
              "  "
            ]
          },
          "metadata": {},
          "execution_count": 18
        }
      ]
    }
  ],
  "metadata": {
    "kernelspec": {
      "display_name": "Python 3",
      "language": "python",
      "name": "python3"
    },
    "language_info": {
      "codemirror_mode": {
        "name": "ipython",
        "version": 3
      },
      "file_extension": ".py",
      "mimetype": "text/x-python",
      "name": "python",
      "nbconvert_exporter": "python",
      "pygments_lexer": "ipython3",
      "version": "3.7.12"
    },
    "papermill": {
      "default_parameters": {},
      "duration": 167.040157,
      "end_time": "2022-03-25T19:26:27.902385",
      "environment_variables": {},
      "exception": null,
      "input_path": "__notebook__.ipynb",
      "output_path": "__notebook__.ipynb",
      "parameters": {},
      "start_time": "2022-03-25T19:23:40.862228",
      "version": "2.3.3"
    },
    "colab": {
      "name": "Online_vs_Offline_validation.ipynb",
      "provenance": []
    },
    "accelerator": "GPU"
  },
  "nbformat": 4,
  "nbformat_minor": 5
}