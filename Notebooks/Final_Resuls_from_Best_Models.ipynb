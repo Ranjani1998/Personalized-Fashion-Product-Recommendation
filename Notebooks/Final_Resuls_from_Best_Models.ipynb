{
  "cells": [
    {
      "cell_type": "code",
      "execution_count": 1,
      "metadata": {
        "colab": {
          "base_uri": "https://localhost:8080/"
        },
        "id": "f4eee65d",
        "outputId": "36faf5bd-3832-495b-a419-a3a44b959492"
      },
      "outputs": [
        {
          "output_type": "stream",
          "name": "stdout",
          "text": [
            "Looking in indexes: https://pypi.org/simple, https://us-python.pkg.dev/colab-wheels/public/simple/\n",
            "Collecting git+https://github.com/mayukh18/reco\n",
            "  Cloning https://github.com/mayukh18/reco to /tmp/pip-req-build-upuoyg1v\n",
            "  Running command git clone -q https://github.com/mayukh18/reco /tmp/pip-req-build-upuoyg1v\n",
            "Requirement already satisfied: numpy in /usr/local/lib/python3.7/dist-packages (from reco==0.2.1) (1.21.6)\n",
            "Requirement already satisfied: pandas in /usr/local/lib/python3.7/dist-packages (from reco==0.2.1) (1.3.5)\n",
            "Requirement already satisfied: pytz>=2017.3 in /usr/local/lib/python3.7/dist-packages (from pandas->reco==0.2.1) (2022.1)\n",
            "Requirement already satisfied: python-dateutil>=2.7.3 in /usr/local/lib/python3.7/dist-packages (from pandas->reco==0.2.1) (2.8.2)\n",
            "Requirement already satisfied: six>=1.5 in /usr/local/lib/python3.7/dist-packages (from python-dateutil>=2.7.3->pandas->reco==0.2.1) (1.15.0)\n",
            "Building wheels for collected packages: reco\n",
            "  Building wheel for reco (setup.py) ... \u001b[?25l\u001b[?25hdone\n",
            "  Created wheel for reco: filename=reco-0.2.1-cp37-cp37m-linux_x86_64.whl size=9678198 sha256=e02742f7d1b39cdd6bc7cb7ca5635b38ae952c7d73be026fa0dc7fbd38f0e6d9\n",
            "  Stored in directory: /tmp/pip-ephem-wheel-cache-r0llx1kr/wheels/6b/77/06/3fabb6de467036024e54b62021cc5d1dc8cf3a300b17c43089\n",
            "Successfully built reco\n",
            "Installing collected packages: reco\n",
            "Successfully installed reco-0.2.1\n"
          ]
        }
      ],
      "source": [
        "# Libraries\n",
        "\n",
        "import numpy as np\n",
        "import pandas as pd \n",
        "import datetime # calculate the duration between two dates and times\n",
        "import gc                                # garbage collector\n",
        "import time\n",
        "import multiprocessing as mp             # supports spawning processes using an API similar to the threading module\n",
        "from multiprocessing import Pool         # offers a convenient means of parallelizing the execution of a function across multiple input values, \n",
        "                                         # distributing the input data across processes (data parallelism)\n",
        "from functools import partial            # higher order function which takes a function as input (like map and filter)\n",
        "\n",
        "import glob\n",
        "from tqdm import tqdm\n",
        "from collections import Counter\n",
        "\n",
        "import warnings\n",
        "warnings.filterwarnings(\"ignore\")\n",
        "\n",
        "!pip install git+https://github.com/mayukh18/reco\n",
        "import reco\n",
        "from reco.recommender import FunkSVD\n",
        "from reco.metrics import rmse"
      ],
      "id": "f4eee65d"
    },
    {
      "cell_type": "code",
      "execution_count": 2,
      "metadata": {
        "colab": {
          "base_uri": "https://localhost:8080/"
        },
        "id": "yGyLfUjIM6ji",
        "outputId": "a5dc8d3d-0de3-4f4a-d950-b08c882f68f2"
      },
      "outputs": [
        {
          "output_type": "stream",
          "name": "stdout",
          "text": [
            "Mounted at /content/drive\n"
          ]
        }
      ],
      "source": [
        "from google.colab import drive\n",
        "drive.mount('/content/drive')"
      ],
      "id": "yGyLfUjIM6ji"
    },
    {
      "cell_type": "code",
      "execution_count": 3,
      "metadata": {
        "id": "c0079818"
      },
      "outputs": [],
      "source": [
        "# read the datasets\n",
        "\n",
        "customers = pd.read_csv('/content/drive/MyDrive/Project_Data/customers.csv')\n",
        "\n",
        "articles = pd.read_csv('/content/drive/MyDrive/Project_Data/articles.csv',dtype={'article_id': 'int32'})\n",
        "\n",
        "submissions = pd.read_csv('/content/drive/MyDrive/Project_Data/sample_submission.csv')"
      ],
      "id": "c0079818"
    },
    {
      "cell_type": "markdown",
      "metadata": {
        "id": "10899a86"
      },
      "source": [
        "# Content-based filtering"
      ],
      "id": "10899a86"
    },
    {
      "cell_type": "code",
      "execution_count": 4,
      "metadata": {
        "id": "9f53b0c1"
      },
      "outputs": [],
      "source": [
        "transactions_train = pd.read_csv('/content/drive/MyDrive/Project_Data/transactions_train.csv', dtype={'article_id': str}, parse_dates=['t_dat'])\n",
        "transactions_train_df = transactions_train.sort_values([\"customer_id\", \"t_dat\"], ascending=False)\n"
      ],
      "id": "9f53b0c1"
    },
    {
      "cell_type": "code",
      "execution_count": 5,
      "metadata": {
        "colab": {
          "base_uri": "https://localhost:8080/"
        },
        "id": "f7c99128",
        "outputId": "3cc08412-a704-4639-b85b-70b0caa319b3"
      },
      "outputs": [
        {
          "output_type": "stream",
          "name": "stdout",
          "text": [
            "2020-09-22 00:00:00\n",
            "(32866, 5)\n"
          ]
        }
      ],
      "source": [
        "last_date = transactions_train_df.t_dat.max()\n",
        "print(last_date)\n",
        "print(transactions_train_df.loc[transactions_train_df.t_dat==last_date].shape)"
      ],
      "id": "f7c99128"
    },
    {
      "cell_type": "code",
      "execution_count": 6,
      "metadata": {
        "colab": {
          "base_uri": "https://localhost:8080/"
        },
        "id": "9a26fc22",
        "outputId": "ce43c8f4-0345-4f4f-bdf3-ed3793d3a167"
      },
      "outputs": [
        {
          "output_type": "stream",
          "name": "stdout",
          "text": [
            "Frequent articles bought recently:  00924243002 00751471001 00448509014 00918522001 00866731001 00714790020 00788575004 00915529005 00573085028 00918292001 00850917001 00928206001\n"
          ]
        }
      ],
      "source": [
        "most_frequent_articles = list(transactions_train_df.loc[transactions_train_df.t_dat==last_date].article_id.value_counts()[0:12].index)\n",
        "art_list = []\n",
        "for art in most_frequent_articles:\n",
        "    art = \"0\"+str(art)\n",
        "    art_list.append(art)\n",
        "art_str = \" \".join(art_list)\n",
        "print(\"Frequent articles bought recently: \", art_str)"
      ],
      "id": "9a26fc22"
    },
    {
      "cell_type": "code",
      "execution_count": 7,
      "metadata": {
        "id": "25160341"
      },
      "outputs": [],
      "source": [
        "agg_df = transactions_train_df.groupby([\"customer_id\"])[\"article_id\"].agg(lambda x: str(x.values[0:12])[1:-1]).reset_index()"
      ],
      "id": "25160341"
    },
    {
      "cell_type": "code",
      "execution_count": 8,
      "metadata": {
        "id": "7af8abc2"
      },
      "outputs": [],
      "source": [
        "def padding_articles(x):\n",
        "    if x:\n",
        "        xl = x.split()\n",
        "        x = []\n",
        "        for xi in xl:\n",
        "            x.append(\"0\"+xi)\n",
        "        dimm_x = len(x)\n",
        "        if dimm_x < 12:\n",
        "            x.extend(art_list[:12-dimm_x])\n",
        "        return(\" \".join(x))"
      ],
      "id": "7af8abc2"
    },
    {
      "cell_type": "code",
      "execution_count": 9,
      "metadata": {
        "id": "642b9cb5"
      },
      "outputs": [],
      "source": [
        "agg_df[\"article_id\"] = agg_df[\"article_id\"].apply(lambda x: padding_articles(x))"
      ],
      "id": "642b9cb5"
    },
    {
      "cell_type": "code",
      "execution_count": 10,
      "metadata": {
        "colab": {
          "base_uri": "https://localhost:8080/"
        },
        "id": "f4ffa355",
        "outputId": "4d36a120-e7cf-41e7-cf75-80a4ffd25da5"
      },
      "outputs": [
        {
          "output_type": "stream",
          "name": "stdout",
          "text": [
            "Aggregated transaction history:  1362281\n",
            "Submission sample:  1371980\n"
          ]
        }
      ],
      "source": [
        "print(\"Aggregated transaction history: \", agg_df.customer_id.nunique())\n",
        "print(\"Submission sample: \", submissions.customer_id.nunique())"
      ],
      "id": "f4ffa355"
    },
    {
      "cell_type": "code",
      "execution_count": 11,
      "metadata": {
        "colab": {
          "base_uri": "https://localhost:8080/",
          "height": 223
        },
        "id": "1aa0bed5",
        "outputId": "895167ec-a944-41a3-f85b-c7e8fff5d6c1"
      },
      "outputs": [
        {
          "output_type": "stream",
          "name": "stdout",
          "text": [
            "(1371980, 2)\n"
          ]
        },
        {
          "output_type": "execute_result",
          "data": {
            "text/plain": [
              "                                         customer_id  \\\n",
              "0  00000dbacae5abe5e23885899a1fa44253a17956c6d1c3...   \n",
              "1  0000423b00ade91418cceaf3b26c6af3dd342b51fd051e...   \n",
              "2  000058a12d5b43e67d225668fa1f8d618c13dc232df0ca...   \n",
              "3  00005ca1c9ed5f5146b52ac8639a40ca9d57aeff4d1bd2...   \n",
              "4  00006413d8573cd20ed7128e53b7b13819fe5cfc2d801f...   \n",
              "\n",
              "                                          prediction  \n",
              "0  0706016001 0706016002 0372860001 0610776002 07...  \n",
              "1  0706016001 0706016002 0372860001 0610776002 07...  \n",
              "2  0706016001 0706016002 0372860001 0610776002 07...  \n",
              "3  0706016001 0706016002 0372860001 0610776002 07...  \n",
              "4  0706016001 0706016002 0372860001 0610776002 07...  "
            ],
            "text/html": [
              "\n",
              "  <div id=\"df-5e55a460-f6b3-4d56-87e8-055b9550f9cc\">\n",
              "    <div class=\"colab-df-container\">\n",
              "      <div>\n",
              "<style scoped>\n",
              "    .dataframe tbody tr th:only-of-type {\n",
              "        vertical-align: middle;\n",
              "    }\n",
              "\n",
              "    .dataframe tbody tr th {\n",
              "        vertical-align: top;\n",
              "    }\n",
              "\n",
              "    .dataframe thead th {\n",
              "        text-align: right;\n",
              "    }\n",
              "</style>\n",
              "<table border=\"1\" class=\"dataframe\">\n",
              "  <thead>\n",
              "    <tr style=\"text-align: right;\">\n",
              "      <th></th>\n",
              "      <th>customer_id</th>\n",
              "      <th>prediction</th>\n",
              "    </tr>\n",
              "  </thead>\n",
              "  <tbody>\n",
              "    <tr>\n",
              "      <th>0</th>\n",
              "      <td>00000dbacae5abe5e23885899a1fa44253a17956c6d1c3...</td>\n",
              "      <td>0706016001 0706016002 0372860001 0610776002 07...</td>\n",
              "    </tr>\n",
              "    <tr>\n",
              "      <th>1</th>\n",
              "      <td>0000423b00ade91418cceaf3b26c6af3dd342b51fd051e...</td>\n",
              "      <td>0706016001 0706016002 0372860001 0610776002 07...</td>\n",
              "    </tr>\n",
              "    <tr>\n",
              "      <th>2</th>\n",
              "      <td>000058a12d5b43e67d225668fa1f8d618c13dc232df0ca...</td>\n",
              "      <td>0706016001 0706016002 0372860001 0610776002 07...</td>\n",
              "    </tr>\n",
              "    <tr>\n",
              "      <th>3</th>\n",
              "      <td>00005ca1c9ed5f5146b52ac8639a40ca9d57aeff4d1bd2...</td>\n",
              "      <td>0706016001 0706016002 0372860001 0610776002 07...</td>\n",
              "    </tr>\n",
              "    <tr>\n",
              "      <th>4</th>\n",
              "      <td>00006413d8573cd20ed7128e53b7b13819fe5cfc2d801f...</td>\n",
              "      <td>0706016001 0706016002 0372860001 0610776002 07...</td>\n",
              "    </tr>\n",
              "  </tbody>\n",
              "</table>\n",
              "</div>\n",
              "      <button class=\"colab-df-convert\" onclick=\"convertToInteractive('df-5e55a460-f6b3-4d56-87e8-055b9550f9cc')\"\n",
              "              title=\"Convert this dataframe to an interactive table.\"\n",
              "              style=\"display:none;\">\n",
              "        \n",
              "  <svg xmlns=\"http://www.w3.org/2000/svg\" height=\"24px\"viewBox=\"0 0 24 24\"\n",
              "       width=\"24px\">\n",
              "    <path d=\"M0 0h24v24H0V0z\" fill=\"none\"/>\n",
              "    <path d=\"M18.56 5.44l.94 2.06.94-2.06 2.06-.94-2.06-.94-.94-2.06-.94 2.06-2.06.94zm-11 1L8.5 8.5l.94-2.06 2.06-.94-2.06-.94L8.5 2.5l-.94 2.06-2.06.94zm10 10l.94 2.06.94-2.06 2.06-.94-2.06-.94-.94-2.06-.94 2.06-2.06.94z\"/><path d=\"M17.41 7.96l-1.37-1.37c-.4-.4-.92-.59-1.43-.59-.52 0-1.04.2-1.43.59L10.3 9.45l-7.72 7.72c-.78.78-.78 2.05 0 2.83L4 21.41c.39.39.9.59 1.41.59.51 0 1.02-.2 1.41-.59l7.78-7.78 2.81-2.81c.8-.78.8-2.07 0-2.86zM5.41 20L4 18.59l7.72-7.72 1.47 1.35L5.41 20z\"/>\n",
              "  </svg>\n",
              "      </button>\n",
              "      \n",
              "  <style>\n",
              "    .colab-df-container {\n",
              "      display:flex;\n",
              "      flex-wrap:wrap;\n",
              "      gap: 12px;\n",
              "    }\n",
              "\n",
              "    .colab-df-convert {\n",
              "      background-color: #E8F0FE;\n",
              "      border: none;\n",
              "      border-radius: 50%;\n",
              "      cursor: pointer;\n",
              "      display: none;\n",
              "      fill: #1967D2;\n",
              "      height: 32px;\n",
              "      padding: 0 0 0 0;\n",
              "      width: 32px;\n",
              "    }\n",
              "\n",
              "    .colab-df-convert:hover {\n",
              "      background-color: #E2EBFA;\n",
              "      box-shadow: 0px 1px 2px rgba(60, 64, 67, 0.3), 0px 1px 3px 1px rgba(60, 64, 67, 0.15);\n",
              "      fill: #174EA6;\n",
              "    }\n",
              "\n",
              "    [theme=dark] .colab-df-convert {\n",
              "      background-color: #3B4455;\n",
              "      fill: #D2E3FC;\n",
              "    }\n",
              "\n",
              "    [theme=dark] .colab-df-convert:hover {\n",
              "      background-color: #434B5C;\n",
              "      box-shadow: 0px 1px 3px 1px rgba(0, 0, 0, 0.15);\n",
              "      filter: drop-shadow(0px 1px 2px rgba(0, 0, 0, 0.3));\n",
              "      fill: #FFFFFF;\n",
              "    }\n",
              "  </style>\n",
              "\n",
              "      <script>\n",
              "        const buttonEl =\n",
              "          document.querySelector('#df-5e55a460-f6b3-4d56-87e8-055b9550f9cc button.colab-df-convert');\n",
              "        buttonEl.style.display =\n",
              "          google.colab.kernel.accessAllowed ? 'block' : 'none';\n",
              "\n",
              "        async function convertToInteractive(key) {\n",
              "          const element = document.querySelector('#df-5e55a460-f6b3-4d56-87e8-055b9550f9cc');\n",
              "          const dataTable =\n",
              "            await google.colab.kernel.invokeFunction('convertToInteractive',\n",
              "                                                     [key], {});\n",
              "          if (!dataTable) return;\n",
              "\n",
              "          const docLinkHtml = 'Like what you see? Visit the ' +\n",
              "            '<a target=\"_blank\" href=https://colab.research.google.com/notebooks/data_table.ipynb>data table notebook</a>'\n",
              "            + ' to learn more about interactive tables.';\n",
              "          element.innerHTML = '';\n",
              "          dataTable['output_type'] = 'display_data';\n",
              "          await google.colab.output.renderOutput(dataTable, element);\n",
              "          const docLink = document.createElement('div');\n",
              "          docLink.innerHTML = docLinkHtml;\n",
              "          element.appendChild(docLink);\n",
              "        }\n",
              "      </script>\n",
              "    </div>\n",
              "  </div>\n",
              "  "
            ]
          },
          "metadata": {},
          "execution_count": 11
        }
      ],
      "source": [
        "print(submissions.shape)\n",
        "submissions.head()"
      ],
      "id": "1aa0bed5"
    },
    {
      "cell_type": "code",
      "execution_count": 12,
      "metadata": {
        "colab": {
          "base_uri": "https://localhost:8080/",
          "height": 223
        },
        "id": "9066fb4c",
        "outputId": "b5ae42c6-b478-4d39-e102-2fde354bdac0"
      },
      "outputs": [
        {
          "output_type": "stream",
          "name": "stdout",
          "text": [
            "(1371980, 2)\n"
          ]
        },
        {
          "output_type": "execute_result",
          "data": {
            "text/plain": [
              "                                         customer_id  \\\n",
              "0  00000dbacae5abe5e23885899a1fa44253a17956c6d1c3...   \n",
              "1  0000423b00ade91418cceaf3b26c6af3dd342b51fd051e...   \n",
              "2  000058a12d5b43e67d225668fa1f8d618c13dc232df0ca...   \n",
              "3  00005ca1c9ed5f5146b52ac8639a40ca9d57aeff4d1bd2...   \n",
              "4  00006413d8573cd20ed7128e53b7b13819fe5cfc2d801f...   \n",
              "\n",
              "                                          prediction  \n",
              "0  0'0568601043' 0'0841260003' 0'0887593002' 0'08...  \n",
              "1  0'0826211002' 0'0599580055' 0'0599580055' 0'08...  \n",
              "2  0'0794321007' 0'0858883002' 0'0851400006' 0'07...  \n",
              "3  0'0742079001' 0'0732413001' 00924243002 007514...  \n",
              "4  0'0896152002' 0'0730683050' 0'0927530004' 0'07...  "
            ],
            "text/html": [
              "\n",
              "  <div id=\"df-46171c1e-3cf2-4b1c-9f54-c579cbca4be0\">\n",
              "    <div class=\"colab-df-container\">\n",
              "      <div>\n",
              "<style scoped>\n",
              "    .dataframe tbody tr th:only-of-type {\n",
              "        vertical-align: middle;\n",
              "    }\n",
              "\n",
              "    .dataframe tbody tr th {\n",
              "        vertical-align: top;\n",
              "    }\n",
              "\n",
              "    .dataframe thead th {\n",
              "        text-align: right;\n",
              "    }\n",
              "</style>\n",
              "<table border=\"1\" class=\"dataframe\">\n",
              "  <thead>\n",
              "    <tr style=\"text-align: right;\">\n",
              "      <th></th>\n",
              "      <th>customer_id</th>\n",
              "      <th>prediction</th>\n",
              "    </tr>\n",
              "  </thead>\n",
              "  <tbody>\n",
              "    <tr>\n",
              "      <th>0</th>\n",
              "      <td>00000dbacae5abe5e23885899a1fa44253a17956c6d1c3...</td>\n",
              "      <td>0'0568601043' 0'0841260003' 0'0887593002' 0'08...</td>\n",
              "    </tr>\n",
              "    <tr>\n",
              "      <th>1</th>\n",
              "      <td>0000423b00ade91418cceaf3b26c6af3dd342b51fd051e...</td>\n",
              "      <td>0'0826211002' 0'0599580055' 0'0599580055' 0'08...</td>\n",
              "    </tr>\n",
              "    <tr>\n",
              "      <th>2</th>\n",
              "      <td>000058a12d5b43e67d225668fa1f8d618c13dc232df0ca...</td>\n",
              "      <td>0'0794321007' 0'0858883002' 0'0851400006' 0'07...</td>\n",
              "    </tr>\n",
              "    <tr>\n",
              "      <th>3</th>\n",
              "      <td>00005ca1c9ed5f5146b52ac8639a40ca9d57aeff4d1bd2...</td>\n",
              "      <td>0'0742079001' 0'0732413001' 00924243002 007514...</td>\n",
              "    </tr>\n",
              "    <tr>\n",
              "      <th>4</th>\n",
              "      <td>00006413d8573cd20ed7128e53b7b13819fe5cfc2d801f...</td>\n",
              "      <td>0'0896152002' 0'0730683050' 0'0927530004' 0'07...</td>\n",
              "    </tr>\n",
              "  </tbody>\n",
              "</table>\n",
              "</div>\n",
              "      <button class=\"colab-df-convert\" onclick=\"convertToInteractive('df-46171c1e-3cf2-4b1c-9f54-c579cbca4be0')\"\n",
              "              title=\"Convert this dataframe to an interactive table.\"\n",
              "              style=\"display:none;\">\n",
              "        \n",
              "  <svg xmlns=\"http://www.w3.org/2000/svg\" height=\"24px\"viewBox=\"0 0 24 24\"\n",
              "       width=\"24px\">\n",
              "    <path d=\"M0 0h24v24H0V0z\" fill=\"none\"/>\n",
              "    <path d=\"M18.56 5.44l.94 2.06.94-2.06 2.06-.94-2.06-.94-.94-2.06-.94 2.06-2.06.94zm-11 1L8.5 8.5l.94-2.06 2.06-.94-2.06-.94L8.5 2.5l-.94 2.06-2.06.94zm10 10l.94 2.06.94-2.06 2.06-.94-2.06-.94-.94-2.06-.94 2.06-2.06.94z\"/><path d=\"M17.41 7.96l-1.37-1.37c-.4-.4-.92-.59-1.43-.59-.52 0-1.04.2-1.43.59L10.3 9.45l-7.72 7.72c-.78.78-.78 2.05 0 2.83L4 21.41c.39.39.9.59 1.41.59.51 0 1.02-.2 1.41-.59l7.78-7.78 2.81-2.81c.8-.78.8-2.07 0-2.86zM5.41 20L4 18.59l7.72-7.72 1.47 1.35L5.41 20z\"/>\n",
              "  </svg>\n",
              "      </button>\n",
              "      \n",
              "  <style>\n",
              "    .colab-df-container {\n",
              "      display:flex;\n",
              "      flex-wrap:wrap;\n",
              "      gap: 12px;\n",
              "    }\n",
              "\n",
              "    .colab-df-convert {\n",
              "      background-color: #E8F0FE;\n",
              "      border: none;\n",
              "      border-radius: 50%;\n",
              "      cursor: pointer;\n",
              "      display: none;\n",
              "      fill: #1967D2;\n",
              "      height: 32px;\n",
              "      padding: 0 0 0 0;\n",
              "      width: 32px;\n",
              "    }\n",
              "\n",
              "    .colab-df-convert:hover {\n",
              "      background-color: #E2EBFA;\n",
              "      box-shadow: 0px 1px 2px rgba(60, 64, 67, 0.3), 0px 1px 3px 1px rgba(60, 64, 67, 0.15);\n",
              "      fill: #174EA6;\n",
              "    }\n",
              "\n",
              "    [theme=dark] .colab-df-convert {\n",
              "      background-color: #3B4455;\n",
              "      fill: #D2E3FC;\n",
              "    }\n",
              "\n",
              "    [theme=dark] .colab-df-convert:hover {\n",
              "      background-color: #434B5C;\n",
              "      box-shadow: 0px 1px 3px 1px rgba(0, 0, 0, 0.15);\n",
              "      filter: drop-shadow(0px 1px 2px rgba(0, 0, 0, 0.3));\n",
              "      fill: #FFFFFF;\n",
              "    }\n",
              "  </style>\n",
              "\n",
              "      <script>\n",
              "        const buttonEl =\n",
              "          document.querySelector('#df-46171c1e-3cf2-4b1c-9f54-c579cbca4be0 button.colab-df-convert');\n",
              "        buttonEl.style.display =\n",
              "          google.colab.kernel.accessAllowed ? 'block' : 'none';\n",
              "\n",
              "        async function convertToInteractive(key) {\n",
              "          const element = document.querySelector('#df-46171c1e-3cf2-4b1c-9f54-c579cbca4be0');\n",
              "          const dataTable =\n",
              "            await google.colab.kernel.invokeFunction('convertToInteractive',\n",
              "                                                     [key], {});\n",
              "          if (!dataTable) return;\n",
              "\n",
              "          const docLinkHtml = 'Like what you see? Visit the ' +\n",
              "            '<a target=\"_blank\" href=https://colab.research.google.com/notebooks/data_table.ipynb>data table notebook</a>'\n",
              "            + ' to learn more about interactive tables.';\n",
              "          element.innerHTML = '';\n",
              "          dataTable['output_type'] = 'display_data';\n",
              "          await google.colab.output.renderOutput(dataTable, element);\n",
              "          const docLink = document.createElement('div');\n",
              "          docLink.innerHTML = docLinkHtml;\n",
              "          element.appendChild(docLink);\n",
              "        }\n",
              "      </script>\n",
              "    </div>\n",
              "  </div>\n",
              "  "
            ]
          },
          "metadata": {},
          "execution_count": 12
        }
      ],
      "source": [
        "# For the customers with missing articles, we simply replace with most frequent buyed articles in most recent day(s).\n",
        "\n",
        "submission_df = agg_df.merge(submissions[[\"customer_id\"]], how=\"right\")\n",
        "submission_df.columns = [\"customer_id\", \"prediction\"]\n",
        "print(submission_df.shape)\n",
        "submission_df.head()"
      ],
      "id": "9066fb4c"
    },
    {
      "cell_type": "code",
      "execution_count": 13,
      "metadata": {
        "colab": {
          "base_uri": "https://localhost:8080/"
        },
        "id": "9f0044c1",
        "outputId": "03a39d9f-4532-486a-e4a6-3784d894797b"
      },
      "outputs": [
        {
          "output_type": "stream",
          "name": "stdout",
          "text": [
            "Rows with missing data in submission:  9699\n"
          ]
        }
      ],
      "source": [
        "print(\"Rows with missing data in submission: \", submission_df.loc[submission_df.prediction.isna()].shape[0])"
      ],
      "id": "9f0044c1"
    },
    {
      "cell_type": "code",
      "execution_count": 14,
      "metadata": {
        "id": "75dcf896"
      },
      "outputs": [],
      "source": [
        "# We replace the missing data with the most frequently bought articles, from recent days. We calculated it before.\n",
        "\n",
        "submission_df.loc[submission_df.prediction.isna(), [\"prediction\"]] = art_str"
      ],
      "id": "75dcf896"
    },
    {
      "cell_type": "code",
      "execution_count": 15,
      "metadata": {
        "colab": {
          "base_uri": "https://localhost:8080/"
        },
        "id": "bbb1e4ed",
        "outputId": "f6d86552-7415-4a12-daae-0c90b8eac504"
      },
      "outputs": [
        {
          "output_type": "stream",
          "name": "stdout",
          "text": [
            "Rows with missing data in submission:  0\n"
          ]
        }
      ],
      "source": [
        "print(\"Rows with missing data in submission: \", submission_df.loc[submission_df.prediction.isna()].shape[0])"
      ],
      "id": "bbb1e4ed"
    },
    {
      "cell_type": "code",
      "execution_count": 16,
      "metadata": {
        "id": "0f9213a1"
      },
      "outputs": [],
      "source": [
        "submission_df.to_csv(\"/content/drive/MyDrive/Project_Data/sub_content.csv\", index=False)"
      ],
      "id": "0f9213a1"
    },
    {
      "cell_type": "markdown",
      "metadata": {
        "id": "e5cc9f80"
      },
      "source": [
        "# Collaborative filtering (user-user)"
      ],
      "id": "e5cc9f80"
    },
    {
      "cell_type": "code",
      "execution_count": 17,
      "metadata": {
        "id": "fb3027a8"
      },
      "outputs": [],
      "source": [
        "df = transactions_train\n",
        "df_sub = pd.read_csv('/content/drive/MyDrive/Project_Data/sample_submission.csv')"
      ],
      "id": "fb3027a8"
    },
    {
      "cell_type": "code",
      "execution_count": 18,
      "metadata": {
        "id": "d93238b9"
      },
      "outputs": [],
      "source": [
        "dfu = pd.read_csv('/content/drive/MyDrive/Project_Data/customers.csv')\n",
        "dfi = pd.read_csv('/content/drive/MyDrive/Project_Data/articles.csv', dtype={'article_id': str})\n",
        "\n",
        "ALL_USERS = dfu['customer_id'].unique().tolist()\n",
        "ALL_ITEMS = dfi['article_id'].unique().tolist()\n",
        "\n",
        "user_to_customer_map = {user_id: customer_id for user_id, customer_id in enumerate(ALL_USERS)}\n",
        "customer_to_user_map = {customer_id: user_id for user_id, customer_id in enumerate(ALL_USERS)}\n",
        "\n",
        "item_to_article_map = {item_id: article_id for item_id, article_id in enumerate(ALL_ITEMS)}\n",
        "article_to_item_map = {article_id: item_id for item_id, article_id in enumerate(ALL_ITEMS)}\n",
        "\n",
        "del dfu, dfi"
      ],
      "id": "d93238b9"
    },
    {
      "cell_type": "code",
      "execution_count": 19,
      "metadata": {
        "id": "1be644cf"
      },
      "outputs": [],
      "source": [
        "df['user_id'] = df['customer_id'].map(customer_to_user_map)\n",
        "df['item_id'] = df['article_id'].map(article_to_item_map)"
      ],
      "id": "1be644cf"
    },
    {
      "cell_type": "code",
      "execution_count": 20,
      "metadata": {
        "id": "fb0b270d"
      },
      "outputs": [],
      "source": [
        "N_SIMILAR_USERS = 20\n",
        "\n",
        "MINIMUM_PURCHASES = 10\n",
        "\n",
        "START_DATE = '2020-09-07'\n",
        "\n",
        "DROP_PURCHASED_ITEMS = False\n",
        "\n",
        "DROP_USER_FROM_HIS_NEIGHBORHOOD = False\n",
        "\n",
        "TEST_RUN = False\n",
        "\n",
        "TEST_SIZE = 1000"
      ],
      "id": "fb0b270d"
    },
    {
      "cell_type": "code",
      "execution_count": 21,
      "metadata": {
        "id": "9f6077db"
      },
      "outputs": [],
      "source": [
        "def flatten(l):\n",
        "\n",
        "    return [item for sublist in l for item in sublist]\n",
        "\n",
        "def compare_vectors(v1, v2):\n",
        "\n",
        "    intersection = len(set(v1) & set(v2))\n",
        "    denominator = np.sqrt(len(v1) * len(v2))\n",
        "    return intersection / denominator\n",
        "\n",
        "def get_similar_users(u, v, dfh):\n",
        "\n",
        "    similar_users = dfh.apply(lambda v_other: compare_vectors(v, v_other)).sort_values(ascending=False).head(N_SIMILAR_USERS + 1)\n",
        "    \n",
        "    if DROP_USER_FROM_HIS_NEIGHBORHOOD:\n",
        "        similar_users = similar_users[similar_users.index != u]\n",
        "        \n",
        "    return similar_users.index.tolist(), similar_users.tolist()\n",
        "\n",
        "def get_items(u, v, dfh):\n",
        "\n",
        "    global i, n\n",
        "    \n",
        "    users, scores = get_similar_users(u, v, dfh)\n",
        "    df_nn = pd.DataFrame({'user': users, 'score': scores})\n",
        "    df_nn['items'] = df_nn.apply(lambda row: dfh.loc[row.user], axis=1)\n",
        "    df_nn['weighted_items'] = df_nn.apply(lambda row: [(item, row.score) for item in row['items']], axis=1)\n",
        "\n",
        "    recs = pd.DataFrame(flatten(df_nn['weighted_items'].tolist()), columns=['item', 'score']).groupby('item')['score'].sum().sort_values(ascending=False)\n",
        "    if DROP_PURCHASED_ITEMS:\n",
        "        recs = recs[~recs.index.isin(v)]\n",
        "    # Keep the first 12 and get the item_ids\n",
        "    i +=1\n",
        "    if i % 200 == 0:\n",
        "        pid = mp.current_process().pid\n",
        "        print(f\"[PID {pid:>2d}] Finished {i:3d} / {n:5d} - {i/n*100:3.0f}%\")\n",
        "    return recs.head(12).index.tolist()\n",
        "\n",
        "def get_items_chunk(user_ids: np.array, dfh: pd.DataFrame):\n",
        "\n",
        "    global i, n\n",
        "    i = 0\n",
        "    \n",
        "    n = len(user_ids)\n",
        "    pid = mp.current_process().pid\n",
        "    print(f\"[PID {pid:>2d}] Started working with {n:5d} users\")\n",
        "    \n",
        "    df_user_vectors = pd.DataFrame(dfh.loc[user_ids]).reset_index()\n",
        "    df_user_vectors['recs'] = df_user_vectors.apply(lambda row: get_items(row.user_id, row.item_id, dfh), axis=1)\n",
        "    return df_user_vectors.set_index('user_id')['recs']\n",
        "\n",
        "def get_recommendations(users: list, dfh: pd.DataFrame):\n",
        "\n",
        "    time_start = time.time()\n",
        "    \n",
        "    # Split into approximately evenly sized chunks\n",
        "    # We will send just one batch to each CPU \n",
        "    user_chunks = np.array_split(users, mp.cpu_count())\n",
        "    \n",
        "    f = partial(get_items_chunk, dfh=dfh)\n",
        "    with Pool(mp.cpu_count()) as p:\n",
        "        res = p.map(f, user_chunks)\n",
        "    \n",
        "    df_rec = pd.DataFrame(pd.concat(res))\n",
        "\n",
        "    elapsed = (time.time() - time_start) / 60\n",
        "    print(f\"Finished get_recommendations({len(users)}). It took {elapsed:5.2f} mins\")\n",
        "    return df_rec\n",
        "\n",
        "\n",
        "def uucf(df, start_date=START_DATE):\n",
        "\n",
        "    df_small = df[df['t_dat'] > start_date]\n",
        "    print(f\"Kept data from {start_date} on. Total rows: {len(df_small)}\")\n",
        "    \n",
        "    # H stands for \"Transaction history\"\n",
        "    # dfh is a series of user_id => list of item_id (the list of purchases in order)\n",
        "    dfh = df_small.groupby(\"user_id\")['item_id'].apply(lambda items: list(set(items)))\n",
        "    dfh = dfh[dfh.str.len() >= MINIMUM_PURCHASES]\n",
        "    if TEST_RUN:\n",
        "        print(\"WARNING: TEST_RUN is True. It will be a toy execution.\")\n",
        "        dfh = dfh.head(TEST_SIZE)\n",
        "    \n",
        "    users = dfh.index.tolist()\n",
        "    n_users = len(users)\n",
        "    print(f\"Total users in the time frame with at least {MINIMUM_PURCHASES}: {n_users}\")\n",
        "    \n",
        "    df_rec = get_recommendations(users, dfh)\n",
        "    df_rec['customer_id'] = df_rec.index.map(user_to_customer_map)\n",
        "    df_rec['prediction'] = df_rec['recs'].map(lambda l: [item_to_article_map[i] for i in l])\n",
        "    \n",
        "    # Submission ready dataframe\n",
        "    df_rec.reset_index(drop=True)[['customer_id', 'prediction']]\n",
        "    return df_rec "
      ],
      "id": "9f6077db"
    },
    {
      "cell_type": "code",
      "execution_count": 22,
      "metadata": {
        "colab": {
          "base_uri": "https://localhost:8080/"
        },
        "id": "eb7bd879",
        "outputId": "cbcda7f8-e828-4b81-a7e1-09cd0dc535fe"
      },
      "outputs": [
        {
          "output_type": "stream",
          "name": "stdout",
          "text": [
            "Kept data from 2020-09-07 on. Total rows: 531967\n",
            "Total users in the time frame with at least 10: 6964\n",
            "[PID 462] Started working with  3482 users\n",
            "[PID 463] Started working with  3482 users\n",
            "[PID 462] Finished 200 /  3482 -   6%\n",
            "[PID 463] Finished 200 /  3482 -   6%\n",
            "[PID 462] Finished 400 /  3482 -  11%\n",
            "[PID 463] Finished 400 /  3482 -  11%\n",
            "[PID 462] Finished 600 /  3482 -  17%\n",
            "[PID 463] Finished 600 /  3482 -  17%\n",
            "[PID 462] Finished 800 /  3482 -  23%\n",
            "[PID 463] Finished 800 /  3482 -  23%\n",
            "[PID 462] Finished 1000 /  3482 -  29%\n",
            "[PID 463] Finished 1000 /  3482 -  29%\n",
            "[PID 462] Finished 1200 /  3482 -  34%\n",
            "[PID 463] Finished 1200 /  3482 -  34%\n",
            "[PID 463] Finished 1400 /  3482 -  40%\n",
            "[PID 462] Finished 1400 /  3482 -  40%\n",
            "[PID 463] Finished 1600 /  3482 -  46%\n",
            "[PID 462] Finished 1600 /  3482 -  46%\n",
            "[PID 463] Finished 1800 /  3482 -  52%\n",
            "[PID 462] Finished 1800 /  3482 -  52%\n",
            "[PID 462] Finished 2000 /  3482 -  57%\n",
            "[PID 463] Finished 2000 /  3482 -  57%\n",
            "[PID 463] Finished 2200 /  3482 -  63%\n",
            "[PID 462] Finished 2200 /  3482 -  63%\n",
            "[PID 462] Finished 2400 /  3482 -  69%\n",
            "[PID 463] Finished 2400 /  3482 -  69%\n",
            "[PID 462] Finished 2600 /  3482 -  75%\n",
            "[PID 463] Finished 2600 /  3482 -  75%\n",
            "[PID 462] Finished 2800 /  3482 -  80%\n",
            "[PID 463] Finished 2800 /  3482 -  80%\n",
            "[PID 462] Finished 3000 /  3482 -  86%\n",
            "[PID 463] Finished 3000 /  3482 -  86%\n",
            "[PID 462] Finished 3200 /  3482 -  92%\n",
            "[PID 463] Finished 3200 /  3482 -  92%\n",
            "[PID 462] Finished 3400 /  3482 -  98%\n",
            "[PID 463] Finished 3400 /  3482 -  98%\n",
            "Finished get_recommendations(6964). It took  3.41 mins\n"
          ]
        }
      ],
      "source": [
        "df_recs = uucf(df)"
      ],
      "id": "eb7bd879"
    },
    {
      "cell_type": "code",
      "execution_count": 23,
      "metadata": {
        "id": "ebfd8563"
      },
      "outputs": [],
      "source": [
        "df_fill = pd.read_csv('/content/drive/MyDrive/Project_Data/sub_content.csv')"
      ],
      "id": "ebfd8563"
    },
    {
      "cell_type": "code",
      "execution_count": 24,
      "metadata": {
        "id": "6179481f"
      },
      "outputs": [],
      "source": [
        "def drop_duplicates(seq):\n",
        "    \"\"\" Remove duplicates of a given sequence keeping order\"\"\"\n",
        "    seen = set()\n",
        "    seen_add = seen.add\n",
        "    return [x for x in seq if not (x in seen or seen_add(x))]\n",
        "\n",
        "def fill_row(row):\n",
        "    uucf = row['prediction_uucf']\n",
        "    fill = row['prediction_fill'].split()\n",
        "    new_list = drop_duplicates(uucf + fill)[:12]\n",
        "    return ' '.join(new_list)\n",
        "\n",
        "\n",
        "def fill(df_recs, df_fill):\n",
        "    df_recs['len'] = df_recs['prediction'].str.len()\n",
        "    df_recs = pd.merge(df_fill, df_recs, how='left', on='customer_id', suffixes=('_fill', '_uucf'))\n",
        "    \n",
        "    \n",
        "    # No recs from UUCF at all: use the fallback model \n",
        "    df_recs.loc[df_recs['prediction_uucf'].isnull(), 'prediction'] = df_recs['prediction_fill']\n",
        "\n",
        "\n",
        "    # Full UUCF recommendation\n",
        "    mask = df_recs['prediction_uucf'].notnull() & (df_recs['len'] == 12)\n",
        "    df_recs.loc[mask, 'prediction'] = df_recs['prediction_uucf']\n",
        "\n",
        "\n",
        "    # Fill with another model. Not enough recs from UUCF\n",
        "    fill_mask = df_recs['prediction_uucf'].notnull() & (df_recs['len'] < 12)\n",
        "    df_recs.loc[fill_mask, 'prediction'] = df_recs[fill_mask].apply(fill_row, axis=1)\n",
        "    return df_recs.drop(['prediction_uucf', 'prediction_fill', 'len', 'recs'], axis=1)"
      ],
      "id": "6179481f"
    },
    {
      "cell_type": "code",
      "execution_count": 25,
      "metadata": {
        "colab": {
          "base_uri": "https://localhost:8080/",
          "height": 206
        },
        "id": "497e198e",
        "outputId": "1a89e149-5efb-4e7a-84cf-f96cee9b9202"
      },
      "outputs": [
        {
          "output_type": "execute_result",
          "data": {
            "text/plain": [
              "                                         customer_id  \\\n",
              "0  00000dbacae5abe5e23885899a1fa44253a17956c6d1c3...   \n",
              "1  0000423b00ade91418cceaf3b26c6af3dd342b51fd051e...   \n",
              "2  000058a12d5b43e67d225668fa1f8d618c13dc232df0ca...   \n",
              "3  00005ca1c9ed5f5146b52ac8639a40ca9d57aeff4d1bd2...   \n",
              "4  00006413d8573cd20ed7128e53b7b13819fe5cfc2d801f...   \n",
              "\n",
              "                                          prediction  \n",
              "0  0'0568601043' 0'0841260003' 0'0887593002' 0'08...  \n",
              "1  0'0826211002' 0'0599580055' 0'0599580055' 0'08...  \n",
              "2  0'0794321007' 0'0858883002' 0'0851400006' 0'07...  \n",
              "3  0'0742079001' 0'0732413001' 00924243002 007514...  \n",
              "4  0'0896152002' 0'0730683050' 0'0927530004' 0'07...  "
            ],
            "text/html": [
              "\n",
              "  <div id=\"df-c22ba839-a8b4-40f5-876a-5bb3909d2feb\">\n",
              "    <div class=\"colab-df-container\">\n",
              "      <div>\n",
              "<style scoped>\n",
              "    .dataframe tbody tr th:only-of-type {\n",
              "        vertical-align: middle;\n",
              "    }\n",
              "\n",
              "    .dataframe tbody tr th {\n",
              "        vertical-align: top;\n",
              "    }\n",
              "\n",
              "    .dataframe thead th {\n",
              "        text-align: right;\n",
              "    }\n",
              "</style>\n",
              "<table border=\"1\" class=\"dataframe\">\n",
              "  <thead>\n",
              "    <tr style=\"text-align: right;\">\n",
              "      <th></th>\n",
              "      <th>customer_id</th>\n",
              "      <th>prediction</th>\n",
              "    </tr>\n",
              "  </thead>\n",
              "  <tbody>\n",
              "    <tr>\n",
              "      <th>0</th>\n",
              "      <td>00000dbacae5abe5e23885899a1fa44253a17956c6d1c3...</td>\n",
              "      <td>0'0568601043' 0'0841260003' 0'0887593002' 0'08...</td>\n",
              "    </tr>\n",
              "    <tr>\n",
              "      <th>1</th>\n",
              "      <td>0000423b00ade91418cceaf3b26c6af3dd342b51fd051e...</td>\n",
              "      <td>0'0826211002' 0'0599580055' 0'0599580055' 0'08...</td>\n",
              "    </tr>\n",
              "    <tr>\n",
              "      <th>2</th>\n",
              "      <td>000058a12d5b43e67d225668fa1f8d618c13dc232df0ca...</td>\n",
              "      <td>0'0794321007' 0'0858883002' 0'0851400006' 0'07...</td>\n",
              "    </tr>\n",
              "    <tr>\n",
              "      <th>3</th>\n",
              "      <td>00005ca1c9ed5f5146b52ac8639a40ca9d57aeff4d1bd2...</td>\n",
              "      <td>0'0742079001' 0'0732413001' 00924243002 007514...</td>\n",
              "    </tr>\n",
              "    <tr>\n",
              "      <th>4</th>\n",
              "      <td>00006413d8573cd20ed7128e53b7b13819fe5cfc2d801f...</td>\n",
              "      <td>0'0896152002' 0'0730683050' 0'0927530004' 0'07...</td>\n",
              "    </tr>\n",
              "  </tbody>\n",
              "</table>\n",
              "</div>\n",
              "      <button class=\"colab-df-convert\" onclick=\"convertToInteractive('df-c22ba839-a8b4-40f5-876a-5bb3909d2feb')\"\n",
              "              title=\"Convert this dataframe to an interactive table.\"\n",
              "              style=\"display:none;\">\n",
              "        \n",
              "  <svg xmlns=\"http://www.w3.org/2000/svg\" height=\"24px\"viewBox=\"0 0 24 24\"\n",
              "       width=\"24px\">\n",
              "    <path d=\"M0 0h24v24H0V0z\" fill=\"none\"/>\n",
              "    <path d=\"M18.56 5.44l.94 2.06.94-2.06 2.06-.94-2.06-.94-.94-2.06-.94 2.06-2.06.94zm-11 1L8.5 8.5l.94-2.06 2.06-.94-2.06-.94L8.5 2.5l-.94 2.06-2.06.94zm10 10l.94 2.06.94-2.06 2.06-.94-2.06-.94-.94-2.06-.94 2.06-2.06.94z\"/><path d=\"M17.41 7.96l-1.37-1.37c-.4-.4-.92-.59-1.43-.59-.52 0-1.04.2-1.43.59L10.3 9.45l-7.72 7.72c-.78.78-.78 2.05 0 2.83L4 21.41c.39.39.9.59 1.41.59.51 0 1.02-.2 1.41-.59l7.78-7.78 2.81-2.81c.8-.78.8-2.07 0-2.86zM5.41 20L4 18.59l7.72-7.72 1.47 1.35L5.41 20z\"/>\n",
              "  </svg>\n",
              "      </button>\n",
              "      \n",
              "  <style>\n",
              "    .colab-df-container {\n",
              "      display:flex;\n",
              "      flex-wrap:wrap;\n",
              "      gap: 12px;\n",
              "    }\n",
              "\n",
              "    .colab-df-convert {\n",
              "      background-color: #E8F0FE;\n",
              "      border: none;\n",
              "      border-radius: 50%;\n",
              "      cursor: pointer;\n",
              "      display: none;\n",
              "      fill: #1967D2;\n",
              "      height: 32px;\n",
              "      padding: 0 0 0 0;\n",
              "      width: 32px;\n",
              "    }\n",
              "\n",
              "    .colab-df-convert:hover {\n",
              "      background-color: #E2EBFA;\n",
              "      box-shadow: 0px 1px 2px rgba(60, 64, 67, 0.3), 0px 1px 3px 1px rgba(60, 64, 67, 0.15);\n",
              "      fill: #174EA6;\n",
              "    }\n",
              "\n",
              "    [theme=dark] .colab-df-convert {\n",
              "      background-color: #3B4455;\n",
              "      fill: #D2E3FC;\n",
              "    }\n",
              "\n",
              "    [theme=dark] .colab-df-convert:hover {\n",
              "      background-color: #434B5C;\n",
              "      box-shadow: 0px 1px 3px 1px rgba(0, 0, 0, 0.15);\n",
              "      filter: drop-shadow(0px 1px 2px rgba(0, 0, 0, 0.3));\n",
              "      fill: #FFFFFF;\n",
              "    }\n",
              "  </style>\n",
              "\n",
              "      <script>\n",
              "        const buttonEl =\n",
              "          document.querySelector('#df-c22ba839-a8b4-40f5-876a-5bb3909d2feb button.colab-df-convert');\n",
              "        buttonEl.style.display =\n",
              "          google.colab.kernel.accessAllowed ? 'block' : 'none';\n",
              "\n",
              "        async function convertToInteractive(key) {\n",
              "          const element = document.querySelector('#df-c22ba839-a8b4-40f5-876a-5bb3909d2feb');\n",
              "          const dataTable =\n",
              "            await google.colab.kernel.invokeFunction('convertToInteractive',\n",
              "                                                     [key], {});\n",
              "          if (!dataTable) return;\n",
              "\n",
              "          const docLinkHtml = 'Like what you see? Visit the ' +\n",
              "            '<a target=\"_blank\" href=https://colab.research.google.com/notebooks/data_table.ipynb>data table notebook</a>'\n",
              "            + ' to learn more about interactive tables.';\n",
              "          element.innerHTML = '';\n",
              "          dataTable['output_type'] = 'display_data';\n",
              "          await google.colab.output.renderOutput(dataTable, element);\n",
              "          const docLink = document.createElement('div');\n",
              "          docLink.innerHTML = docLinkHtml;\n",
              "          element.appendChild(docLink);\n",
              "        }\n",
              "      </script>\n",
              "    </div>\n",
              "  </div>\n",
              "  "
            ]
          },
          "metadata": {},
          "execution_count": 25
        }
      ],
      "source": [
        "# Fill with another model\n",
        "df_sub = fill(df_recs, df_fill)\n",
        "df_sub.head()"
      ],
      "id": "497e198e"
    },
    {
      "cell_type": "code",
      "execution_count": 26,
      "metadata": {
        "colab": {
          "base_uri": "https://localhost:8080/"
        },
        "id": "4b1b535c",
        "outputId": "41551a29-0ff5-452b-ceee-83a13c202376"
      },
      "outputs": [
        {
          "output_type": "execute_result",
          "data": {
            "text/plain": [
              "(1371980, 2)"
            ]
          },
          "metadata": {},
          "execution_count": 26
        }
      ],
      "source": [
        "df_sub.shape"
      ],
      "id": "4b1b535c"
    },
    {
      "cell_type": "code",
      "execution_count": 27,
      "metadata": {
        "id": "6ef5c73e"
      },
      "outputs": [],
      "source": [
        "# Submit\n",
        "df_sub.to_csv(\"/content/drive/MyDrive/Project_Data/sub_collaborative.csv\", index=False)"
      ],
      "id": "6ef5c73e"
    },
    {
      "cell_type": "markdown",
      "metadata": {
        "id": "b580aa4e"
      },
      "source": [
        "# SVD Reranking Model"
      ],
      "id": "b580aa4e"
    },
    {
      "cell_type": "code",
      "execution_count": 6,
      "metadata": {
        "id": "f9f606b4"
      },
      "outputs": [],
      "source": [
        "# !pip install git+https://github.com/mayukh18/reco"
      ],
      "id": "f9f606b4"
    },
    {
      "cell_type": "code",
      "execution_count": 7,
      "metadata": {
        "id": "5b830602"
      },
      "outputs": [],
      "source": [
        "data = pd.read_csv('/content/drive/MyDrive/Project_Data/transactions_train.csv', dtype={'article_id':str})\n",
        "data = data.loc[data['sales_channel_id'] == 2]\n",
        "data[\"t_dat\"] = pd.to_datetime(data[\"t_dat\"])"
      ],
      "id": "5b830602"
    },
    {
      "cell_type": "code",
      "execution_count": 8,
      "metadata": {
        "id": "779eca4d",
        "colab": {
          "base_uri": "https://localhost:8080/"
        },
        "outputId": "9033f550-e80f-43ed-f254-1c532a625937"
      },
      "outputs": [
        {
          "output_type": "stream",
          "name": "stderr",
          "text": [
            "100%|██████████| 155638/155638 [00:01<00:00, 154665.46it/s]\n"
          ]
        }
      ],
      "source": [
        "train1 = data.loc[(data[\"t_dat\"] >= datetime.datetime(2020,9,16)) & (data['t_dat'] < datetime.datetime(2020,9,23))]\n",
        "train2 = data.loc[(data[\"t_dat\"] >= datetime.datetime(2020,9,8)) & (data['t_dat'] < datetime.datetime(2020,9,16))]\n",
        "train3 = data.loc[(data[\"t_dat\"] >= datetime.datetime(2020,8,31)) & (data['t_dat'] < datetime.datetime(2020,9,8))]\n",
        "train4 = data.loc[(data[\"t_dat\"] >= datetime.datetime(2020,8,23)) & (data['t_dat'] < datetime.datetime(2020,8,31))]\n",
        "\n",
        "positive_items_per_user1 = train1.groupby(['customer_id'])['article_id'].apply(list)\n",
        "positive_items_per_user2 = train2.groupby(['customer_id'])['article_id'].apply(list)\n",
        "positive_items_per_user3 = train3.groupby(['customer_id'])['article_id'].apply(list)\n",
        "positive_items_per_user4 = train4.groupby(['customer_id'])['article_id'].apply(list)\n",
        "\n",
        "train = pd.concat([train1, train2], axis=0)\n",
        "train['pop_factor'] = train['t_dat'].apply(lambda x: 1/(datetime.datetime(2020,9,23) - x).days)\n",
        "popular_items_group = train.groupby(['article_id'])['pop_factor'].sum()\n",
        "\n",
        "_, popular_items = zip(*sorted(zip(popular_items_group, popular_items_group.keys()))[::-1])\n",
        "\n",
        "user_group = pd.concat([train1, train2, train3, train4], axis=0).groupby(['customer_id'])['article_id'].apply(list)\n",
        "\n",
        "def get_most_freq_next_item(user_group):\n",
        "    next_items = {}\n",
        "    for user in tqdm(user_group.keys()):\n",
        "        items = user_group[user]\n",
        "        for i,item in enumerate(items[:-1]):\n",
        "            if item not in next_items:\n",
        "                next_items[item] = []\n",
        "            if item != items[i+1]:\n",
        "                next_items[item].append(items[i+1])\n",
        "\n",
        "    pred_next = {}\n",
        "    for item in next_items:\n",
        "        if len(next_items[item]) >= 5:\n",
        "            most_common = Counter(next_items[item]).most_common()\n",
        "            ratio = most_common[0][1]/len(next_items[item])\n",
        "            if ratio >= 0.1:\n",
        "                pred_next[item] = most_common[0][0]\n",
        "            \n",
        "    return pred_next\n",
        "\n",
        "pred_next = get_most_freq_next_item(user_group)"
      ],
      "id": "779eca4d"
    },
    {
      "cell_type": "code",
      "execution_count": 9,
      "metadata": {
        "id": "60c6d79a",
        "colab": {
          "base_uri": "https://localhost:8080/"
        },
        "outputId": "66d004c9-f673-482c-989a-5841f69ea0e2"
      },
      "outputs": [
        {
          "output_type": "execute_result",
          "data": {
            "text/plain": [
              "count    669276.000000\n",
              "mean          0.850796\n",
              "std           1.520509\n",
              "min           0.006205\n",
              "25%           0.057209\n",
              "50%           0.158365\n",
              "75%           0.627093\n",
              "max           5.000000\n",
              "Name: feedback, dtype: float64"
            ]
          },
          "metadata": {},
          "execution_count": 9
        }
      ],
      "source": [
        "# SVD\n",
        "train = pd.concat([train1, train2, train3, train4], axis=0)\n",
        "train['pop_factor'] = train['t_dat'].apply(lambda x: 1/(datetime.datetime(2020,9,23) - x).days**2)\n",
        "popular_items_group = train.groupby(['article_id'])['pop_factor'].sum()\n",
        "\n",
        "train['feedback'] = 1\n",
        "train = train.groupby(['customer_id', 'article_id']).sum().reset_index()\n",
        "\n",
        "train['feedback'] = train.apply(lambda row: row['feedback']/popular_items_group[row['article_id']], axis=1)\n",
        "\n",
        "train['feedback'] = train['feedback'].apply(lambda x: 5.0 if x>5.0 else x)\n",
        "train.drop(['price', 'sales_channel_id'], axis=1, inplace=True)\n",
        "train['feedback'].describe()"
      ],
      "id": "60c6d79a"
    },
    {
      "cell_type": "code",
      "execution_count": 10,
      "metadata": {
        "id": "82a6b86c",
        "colab": {
          "base_uri": "https://localhost:8080/",
          "height": 206
        },
        "outputId": "dff28d1c-c813-47e8-c78d-5e6f721a6e75"
      },
      "outputs": [
        {
          "output_type": "execute_result",
          "data": {
            "text/plain": [
              "                                         customer_id  article_id  pop_factor  \\\n",
              "0  0bb534f7e537065ed54f8d8084a611d8620001b4f22b4b...  0748566027    0.472222   \n",
              "1  c24f102825cd1c5f915f00dd5e66f1fcb33f6738c53cee...  0832453005    0.003086   \n",
              "2  cf12d0c770a9baf8266e23739c254d402dde28424ee3fd...  0752657001    0.003460   \n",
              "3  461be44c8ce11e0757d9f1024ce00c907acc6a1f9bcc3b...  0835348010    0.020408   \n",
              "4  7ee1ae23a2996d1e282dc53123d99bd05e8934afe98bef...  0883307001    0.003086   \n",
              "\n",
              "   feedback  \n",
              "0  1.351352  \n",
              "1  5.000000  \n",
              "2  0.080730  \n",
              "3  0.152692  \n",
              "4  0.096015  "
            ],
            "text/html": [
              "\n",
              "  <div id=\"df-8d0cc1ab-f9e2-4ad7-bad4-d9936c01f2e9\">\n",
              "    <div class=\"colab-df-container\">\n",
              "      <div>\n",
              "<style scoped>\n",
              "    .dataframe tbody tr th:only-of-type {\n",
              "        vertical-align: middle;\n",
              "    }\n",
              "\n",
              "    .dataframe tbody tr th {\n",
              "        vertical-align: top;\n",
              "    }\n",
              "\n",
              "    .dataframe thead th {\n",
              "        text-align: right;\n",
              "    }\n",
              "</style>\n",
              "<table border=\"1\" class=\"dataframe\">\n",
              "  <thead>\n",
              "    <tr style=\"text-align: right;\">\n",
              "      <th></th>\n",
              "      <th>customer_id</th>\n",
              "      <th>article_id</th>\n",
              "      <th>pop_factor</th>\n",
              "      <th>feedback</th>\n",
              "    </tr>\n",
              "  </thead>\n",
              "  <tbody>\n",
              "    <tr>\n",
              "      <th>0</th>\n",
              "      <td>0bb534f7e537065ed54f8d8084a611d8620001b4f22b4b...</td>\n",
              "      <td>0748566027</td>\n",
              "      <td>0.472222</td>\n",
              "      <td>1.351352</td>\n",
              "    </tr>\n",
              "    <tr>\n",
              "      <th>1</th>\n",
              "      <td>c24f102825cd1c5f915f00dd5e66f1fcb33f6738c53cee...</td>\n",
              "      <td>0832453005</td>\n",
              "      <td>0.003086</td>\n",
              "      <td>5.000000</td>\n",
              "    </tr>\n",
              "    <tr>\n",
              "      <th>2</th>\n",
              "      <td>cf12d0c770a9baf8266e23739c254d402dde28424ee3fd...</td>\n",
              "      <td>0752657001</td>\n",
              "      <td>0.003460</td>\n",
              "      <td>0.080730</td>\n",
              "    </tr>\n",
              "    <tr>\n",
              "      <th>3</th>\n",
              "      <td>461be44c8ce11e0757d9f1024ce00c907acc6a1f9bcc3b...</td>\n",
              "      <td>0835348010</td>\n",
              "      <td>0.020408</td>\n",
              "      <td>0.152692</td>\n",
              "    </tr>\n",
              "    <tr>\n",
              "      <th>4</th>\n",
              "      <td>7ee1ae23a2996d1e282dc53123d99bd05e8934afe98bef...</td>\n",
              "      <td>0883307001</td>\n",
              "      <td>0.003086</td>\n",
              "      <td>0.096015</td>\n",
              "    </tr>\n",
              "  </tbody>\n",
              "</table>\n",
              "</div>\n",
              "      <button class=\"colab-df-convert\" onclick=\"convertToInteractive('df-8d0cc1ab-f9e2-4ad7-bad4-d9936c01f2e9')\"\n",
              "              title=\"Convert this dataframe to an interactive table.\"\n",
              "              style=\"display:none;\">\n",
              "        \n",
              "  <svg xmlns=\"http://www.w3.org/2000/svg\" height=\"24px\"viewBox=\"0 0 24 24\"\n",
              "       width=\"24px\">\n",
              "    <path d=\"M0 0h24v24H0V0z\" fill=\"none\"/>\n",
              "    <path d=\"M18.56 5.44l.94 2.06.94-2.06 2.06-.94-2.06-.94-.94-2.06-.94 2.06-2.06.94zm-11 1L8.5 8.5l.94-2.06 2.06-.94-2.06-.94L8.5 2.5l-.94 2.06-2.06.94zm10 10l.94 2.06.94-2.06 2.06-.94-2.06-.94-.94-2.06-.94 2.06-2.06.94z\"/><path d=\"M17.41 7.96l-1.37-1.37c-.4-.4-.92-.59-1.43-.59-.52 0-1.04.2-1.43.59L10.3 9.45l-7.72 7.72c-.78.78-.78 2.05 0 2.83L4 21.41c.39.39.9.59 1.41.59.51 0 1.02-.2 1.41-.59l7.78-7.78 2.81-2.81c.8-.78.8-2.07 0-2.86zM5.41 20L4 18.59l7.72-7.72 1.47 1.35L5.41 20z\"/>\n",
              "  </svg>\n",
              "      </button>\n",
              "      \n",
              "  <style>\n",
              "    .colab-df-container {\n",
              "      display:flex;\n",
              "      flex-wrap:wrap;\n",
              "      gap: 12px;\n",
              "    }\n",
              "\n",
              "    .colab-df-convert {\n",
              "      background-color: #E8F0FE;\n",
              "      border: none;\n",
              "      border-radius: 50%;\n",
              "      cursor: pointer;\n",
              "      display: none;\n",
              "      fill: #1967D2;\n",
              "      height: 32px;\n",
              "      padding: 0 0 0 0;\n",
              "      width: 32px;\n",
              "    }\n",
              "\n",
              "    .colab-df-convert:hover {\n",
              "      background-color: #E2EBFA;\n",
              "      box-shadow: 0px 1px 2px rgba(60, 64, 67, 0.3), 0px 1px 3px 1px rgba(60, 64, 67, 0.15);\n",
              "      fill: #174EA6;\n",
              "    }\n",
              "\n",
              "    [theme=dark] .colab-df-convert {\n",
              "      background-color: #3B4455;\n",
              "      fill: #D2E3FC;\n",
              "    }\n",
              "\n",
              "    [theme=dark] .colab-df-convert:hover {\n",
              "      background-color: #434B5C;\n",
              "      box-shadow: 0px 1px 3px 1px rgba(0, 0, 0, 0.15);\n",
              "      filter: drop-shadow(0px 1px 2px rgba(0, 0, 0, 0.3));\n",
              "      fill: #FFFFFF;\n",
              "    }\n",
              "  </style>\n",
              "\n",
              "      <script>\n",
              "        const buttonEl =\n",
              "          document.querySelector('#df-8d0cc1ab-f9e2-4ad7-bad4-d9936c01f2e9 button.colab-df-convert');\n",
              "        buttonEl.style.display =\n",
              "          google.colab.kernel.accessAllowed ? 'block' : 'none';\n",
              "\n",
              "        async function convertToInteractive(key) {\n",
              "          const element = document.querySelector('#df-8d0cc1ab-f9e2-4ad7-bad4-d9936c01f2e9');\n",
              "          const dataTable =\n",
              "            await google.colab.kernel.invokeFunction('convertToInteractive',\n",
              "                                                     [key], {});\n",
              "          if (!dataTable) return;\n",
              "\n",
              "          const docLinkHtml = 'Like what you see? Visit the ' +\n",
              "            '<a target=\"_blank\" href=https://colab.research.google.com/notebooks/data_table.ipynb>data table notebook</a>'\n",
              "            + ' to learn more about interactive tables.';\n",
              "          element.innerHTML = '';\n",
              "          dataTable['output_type'] = 'display_data';\n",
              "          await google.colab.output.renderOutput(dataTable, element);\n",
              "          const docLink = document.createElement('div');\n",
              "          docLink.innerHTML = docLinkHtml;\n",
              "          element.appendChild(docLink);\n",
              "        }\n",
              "      </script>\n",
              "    </div>\n",
              "  </div>\n",
              "  "
            ]
          },
          "metadata": {},
          "execution_count": 10
        }
      ],
      "source": [
        "train = train.sample(frac=1).reset_index(drop=True)\n",
        "train.head()"
      ],
      "id": "82a6b86c"
    },
    {
      "cell_type": "code",
      "execution_count": 11,
      "metadata": {
        "id": "23804be1",
        "colab": {
          "base_uri": "https://localhost:8080/"
        },
        "outputId": "f2a882b0-dabf-4fe5-e464-13fb43356253"
      },
      "outputs": [
        {
          "output_type": "stream",
          "name": "stdout",
          "text": [
            "Epoch 0: Error: 0.800922191764222\n",
            "Epoch 1: Error: 0.5874897083404117\n",
            "Epoch 2: Error: 0.5084851441080492\n",
            "Epoch 3: Error: 0.46105831334040825\n",
            "Epoch 4: Error: 0.42747300213640704\n",
            "Epoch 5: Error: 0.4019097802839868\n",
            "Epoch 6: Error: 0.381511241640542\n",
            "Epoch 7: Error: 0.3646370532840004\n",
            "Epoch 8: Error: 0.3502774057514303\n",
            "Epoch 9: Error: 0.33776488737283544\n",
            "Epoch 10: Error: 0.32667523021939904\n",
            "Epoch 11: Error: 0.31669813050920737\n",
            "Epoch 12: Error: 0.3076117791554887\n",
            "Epoch 13: Error: 0.29924465851827026\n",
            "Epoch 14: Error: 0.29148222867877494\n",
            "Epoch 15: Error: 0.2842265422891626\n",
            "Epoch 16: Error: 0.2773984166733543\n",
            "Epoch 17: Error: 0.2709401983018213\n",
            "Epoch 18: Error: 0.26480629991257915\n",
            "Epoch 19: Error: 0.2589499816227505\n",
            "Epoch 20: Error: 0.25334212123420186\n",
            "Epoch 21: Error: 0.24796559441306962\n",
            "Epoch 22: Error: 0.24280990338856126\n",
            "Epoch 23: Error: 0.23785294069723992\n",
            "Epoch 24: Error: 0.2330839465622111\n",
            "Epoch 25: Error: 0.22849722312429244\n",
            "Epoch 26: Error: 0.2240797596419642\n",
            "Epoch 27: Error: 0.21982519801630082\n",
            "Epoch 28: Error: 0.2157295585507917\n",
            "Epoch 29: Error: 0.2117836964069641\n",
            "Epoch 30: Error: 0.20798286154785622\n",
            "Epoch 31: Error: 0.20431977649401498\n",
            "Epoch 32: Error: 0.2007895008716691\n",
            "Epoch 33: Error: 0.19738951098037535\n",
            "Epoch 34: Error: 0.1941114180317813\n",
            "Epoch 35: Error: 0.19095065735446512\n",
            "Epoch 36: Error: 0.1879014809122163\n",
            "Epoch 37: Error: 0.18495970194157718\n",
            "Epoch 38: Error: 0.18212149098250097\n",
            "Epoch 39: Error: 0.17938270679083543\n",
            "Epoch 40: Error: 0.1767411813966601\n",
            "Epoch 41: Error: 0.17419272700227828\n",
            "Epoch 42: Error: 0.17173293007004917\n",
            "Epoch 43: Error: 0.1693568479760229\n",
            "Epoch 44: Error: 0.1670621563255335\n",
            "Epoch 45: Error: 0.1648433887036173\n",
            "Epoch 46: Error: 0.16269834669085267\n",
            "Epoch 47: Error: 0.16062359696713543\n",
            "Epoch 48: Error: 0.15861509785718794\n",
            "Epoch 49: Error: 0.1566702445091234\n",
            "Epoch 50: Error: 0.15478666955245543\n",
            "Epoch 51: Error: 0.15296114726152546\n",
            "Epoch 52: Error: 0.15119149558480774\n",
            "Epoch 53: Error: 0.1494753550171468\n",
            "Epoch 54: Error: 0.14781024024706504\n",
            "Epoch 55: Error: 0.1461936857092912\n",
            "Epoch 56: Error: 0.1446232729626773\n",
            "Epoch 57: Error: 0.1430974906675918\n",
            "Epoch 58: Error: 0.14161418380799703\n",
            "Epoch 59: Error: 0.14017082185785668\n",
            "Epoch 60: Error: 0.1387665753674072\n",
            "Epoch 61: Error: 0.13739988915275364\n",
            "Epoch 62: Error: 0.13606981052007178\n",
            "Epoch 63: Error: 0.1347738404345542\n",
            "Epoch 64: Error: 0.1335111364197967\n",
            "Epoch 65: Error: 0.13228038079562662\n",
            "Epoch 66: Error: 0.13108091716651674\n",
            "Epoch 67: Error: 0.12991106358571955\n",
            "Epoch 68: Error: 0.12876924162541714\n",
            "Epoch 69: Error: 0.12765504939383798\n",
            "Epoch 70: Error: 0.126567306436138\n",
            "Epoch 71: Error: 0.125505392743653\n",
            "Epoch 72: Error: 0.12446864150854343\n",
            "Epoch 73: Error: 0.12345559965201426\n",
            "Epoch 74: Error: 0.1224650913409857\n",
            "Epoch 75: Error: 0.12149643865721099\n",
            "Epoch 76: Error: 0.12054834315815798\n",
            "Epoch 77: Error: 0.11962024259450157\n",
            "Epoch 78: Error: 0.11871189616333949\n",
            "Epoch 79: Error: 0.11782184024557442\n",
            "Epoch 80: Error: 0.11694978487779406\n",
            "Epoch 81: Error: 0.1160951457592391\n",
            "Epoch 82: Error: 0.11525783455246613\n",
            "Epoch 83: Error: 0.11443729344610436\n",
            "Epoch 84: Error: 0.11363265779267824\n",
            "Epoch 85: Error: 0.1128429166267853\n",
            "Epoch 86: Error: 0.1120676688426133\n",
            "Epoch 87: Error: 0.11130624225775439\n",
            "Epoch 88: Error: 0.11055811882500657\n",
            "Epoch 89: Error: 0.10982297766755143\n",
            "Epoch 90: Error: 0.1091004598999816\n",
            "Epoch 91: Error: 0.10839016000034192\n",
            "Epoch 92: Error: 0.10769169005601631\n",
            "Epoch 93: Error: 0.10700457831926527\n",
            "Epoch 94: Error: 0.1063281223492956\n",
            "Epoch 95: Error: 0.10566227652788955\n",
            "Epoch 96: Error: 0.10500676855843336\n",
            "Epoch 97: Error: 0.1043614538816498\n",
            "Epoch 98: Error: 0.10372613176275826\n",
            "Epoch 99: Error: 0.10310055353168479\n",
            "Epoch 100: Error: 0.10248412178453817\n",
            "Epoch 101: Error: 0.101876452816298\n",
            "Epoch 102: Error: 0.10127747688766639\n",
            "Epoch 103: Error: 0.10068664661544155\n",
            "Epoch 104: Error: 0.10010380083168664\n",
            "Epoch 105: Error: 0.09952866555882403\n",
            "Epoch 106: Error: 0.09896092963298302\n",
            "Epoch 107: Error: 0.09840062091465995\n",
            "Epoch 108: Error: 0.09784783102939398\n",
            "Epoch 109: Error: 0.09730204295593692\n",
            "Epoch 110: Error: 0.09676294053272244\n",
            "Epoch 111: Error: 0.09623033323425265\n",
            "Epoch 112: Error: 0.09570420443797617\n",
            "Epoch 113: Error: 0.09518426750611506\n",
            "Epoch 114: Error: 0.09467023966918468\n",
            "Epoch 115: Error: 0.09416218656021218\n",
            "Epoch 116: Error: 0.0936600909795995\n",
            "Epoch 117: Error: 0.09316387041862047\n",
            "Epoch 118: Error: 0.09267319748885354\n",
            "Epoch 119: Error: 0.0921879039719617\n",
            "Epoch 120: Error: 0.09170799999681988\n",
            "Epoch 121: Error: 0.0912334030539894\n",
            "Epoch 122: Error: 0.09076399969779256\n",
            "Epoch 123: Error: 0.09029972583913831\n",
            "Epoch 124: Error: 0.08984017777525538\n",
            "Epoch 125: Error: 0.08938524140404903\n",
            "Epoch 126: Error: 0.08893490063471997\n",
            "Epoch 127: Error: 0.08848914515164415\n",
            "Epoch 128: Error: 0.08804778574685322\n",
            "Epoch 129: Error: 0.08761087437512394\n",
            "Epoch 130: Error: 0.08717832565673843\n",
            "Epoch 131: Error: 0.08674991884898398\n",
            "Epoch 132: Error: 0.08632564110625594\n",
            "Epoch 133: Error: 0.0859054417074399\n",
            "Epoch 134: Error: 0.08548927776792357\n",
            "Epoch 135: Error: 0.08507718157217588\n",
            "Epoch 136: Error: 0.08466888926251125\n",
            "Epoch 137: Error: 0.08426435426962\n",
            "Epoch 138: Error: 0.08386367939557625\n",
            "Epoch 139: Error: 0.08346671750445082\n",
            "Epoch 140: Error: 0.08307336638987943\n",
            "Epoch 141: Error: 0.08268349502971928\n",
            "Epoch 142: Error: 0.08229718978829537\n",
            "Epoch 143: Error: 0.08191427773485561\n",
            "Epoch 144: Error: 0.08153483093720951\n",
            "Epoch 145: Error: 0.08115890945983104\n",
            "Epoch 146: Error: 0.0807863184402044\n",
            "Epoch 147: Error: 0.0804170685295727\n",
            "Epoch 148: Error: 0.08005104175390526\n",
            "Epoch 149: Error: 0.07968835678056972\n",
            "Epoch 150: Error: 0.07932893358660964\n",
            "Epoch 151: Error: 0.07897250407295481\n",
            "Epoch 152: Error: 0.07861918237955472\n",
            "Epoch 153: Error: 0.07826898600526981\n",
            "Epoch 154: Error: 0.077921907806269\n",
            "Epoch 155: Error: 0.07757782216695612\n",
            "Epoch 156: Error: 0.0772367486655456\n",
            "Epoch 157: Error: 0.07689858489700249\n",
            "Epoch 158: Error: 0.07656336609580029\n",
            "Epoch 159: Error: 0.07623097035580477\n",
            "Epoch 160: Error: 0.07590140810113552\n",
            "Epoch 161: Error: 0.07557457276761535\n",
            "Epoch 162: Error: 0.07525045636211174\n",
            "Epoch 163: Error: 0.07492915416243284\n",
            "Epoch 164: Error: 0.07461064908769956\n",
            "Epoch 165: Error: 0.07429500747352771\n",
            "Epoch 166: Error: 0.07398218776537256\n",
            "Epoch 167: Error: 0.07367207803553665\n",
            "Epoch 168: Error: 0.0733646794386615\n",
            "Epoch 169: Error: 0.07305994171099811\n",
            "Epoch 170: Error: 0.07275786586894789\n",
            "Epoch 171: Error: 0.07245840894880669\n",
            "Epoch 172: Error: 0.0721614129603439\n",
            "Epoch 173: Error: 0.07186696666865512\n",
            "Epoch 174: Error: 0.07157500688203236\n",
            "Epoch 175: Error: 0.07128545580394076\n",
            "Epoch 176: Error: 0.0709982332426813\n",
            "Epoch 177: Error: 0.07071330987049214\n",
            "Epoch 178: Error: 0.07043077631268985\n",
            "Epoch 179: Error: 0.0701506107396862\n",
            "Epoch 180: Error: 0.06987272802487424\n",
            "Epoch 181: Error: 0.06959718202851999\n",
            "Epoch 182: Error: 0.06932387037937691\n",
            "Epoch 183: Error: 0.06905280566264858\n",
            "Epoch 184: Error: 0.06878398281268644\n",
            "Epoch 185: Error: 0.06851733317792312\n",
            "Epoch 186: Error: 0.06825283544963895\n",
            "Epoch 187: Error: 0.06799056331998918\n",
            "Epoch 188: Error: 0.06773046950419204\n",
            "Epoch 189: Error: 0.06747251091551709\n",
            "Epoch 190: Error: 0.06721671314573546\n",
            "Epoch 191: Error: 0.06696311168560638\n",
            "Epoch 192: Error: 0.06671158959387155\n",
            "Epoch 193: Error: 0.06646217457048668\n",
            "Epoch 194: Error: 0.06621480625574067\n",
            "Epoch 195: Error: 0.06596948304121507\n",
            "Epoch 196: Error: 0.06572624477800033\n",
            "Epoch 197: Error: 0.06548504012773546\n",
            "Epoch 198: Error: 0.06524578156621494\n",
            "Epoch 199: Error: 0.06500851581353206\n"
          ]
        }
      ],
      "source": [
        "f = FunkSVD(k=8, learning_rate=0.005, regularizer = .01, iterations = 200, method = 'stochastic', bias=True)\n",
        "f.fit(X=train, formatizer={'user':'customer_id', 'item':'article_id', 'value':'feedback'},verbose=True)"
      ],
      "id": "23804be1"
    },
    {
      "cell_type": "code",
      "execution_count": 12,
      "metadata": {
        "id": "96923fc0",
        "colab": {
          "base_uri": "https://localhost:8080/"
        },
        "outputId": "68b9320a-9cde-4928-cc41-458b3dc1ea95"
      },
      "outputs": [
        {
          "output_type": "stream",
          "name": "stderr",
          "text": [
            "100%|██████████| 1371980/1371980 [04:09<00:00, 5494.56it/s]\n"
          ]
        }
      ],
      "source": [
        "outputs = []\n",
        "cnt = 0\n",
        "\n",
        "popular_items = list(popular_items)\n",
        "userindexes = {f.users[i]:i for i in range(len(f.users))}\n",
        "\n",
        "for user in tqdm(submissions['customer_id']):\n",
        "    user_output = []\n",
        "    if user in positive_items_per_user1.keys():\n",
        "        most_common_items_of_user = {k:v for k, v in Counter(positive_items_per_user1[user]).most_common()}\n",
        "        \n",
        "        user_index = userindexes[user]\n",
        "        new_order = {}\n",
        "        for k in list(most_common_items_of_user.keys())[:20]:\n",
        "            try:\n",
        "                itemindex = f.items.index(k)\n",
        "                pred_value = np.dot(f.userfeatures[user_index], f.itemfeatures[itemindex].T) + f.item_bias[0, itemindex]\n",
        "            except:\n",
        "                pred_value = most_common_items_of_user[k]\n",
        "            new_order[k] = pred_value\n",
        "        user_output += [k for k, v in sorted(new_order.items(), key=lambda item: item[1])][:12]\n",
        "        \n",
        "    if user in positive_items_per_user2.keys():\n",
        "        most_common_items_of_user = {k:v for k, v in Counter(positive_items_per_user2[user]).most_common()}\n",
        "        \n",
        "        user_index = userindexes[user]\n",
        "        new_order = {}\n",
        "        for k in list(most_common_items_of_user.keys())[:20]:\n",
        "            try:\n",
        "                itemindex = f.items.index(k)\n",
        "                pred_value = np.dot(f.userfeatures[user_index], f.itemfeatures[itemindex].T) + f.item_bias[0, itemindex]\n",
        "            except:\n",
        "                pred_value = most_common_items_of_user[k]\n",
        "            new_order[k] = pred_value\n",
        "        user_output += [k for k, v in sorted(new_order.items(), key=lambda item: item[1])][:12]\n",
        "        \n",
        "    if user in positive_items_per_user3.keys():\n",
        "        most_common_items_of_user = {k:v for k, v in Counter(positive_items_per_user3[user]).most_common()}\n",
        "        \n",
        "        user_index = userindexes[user]\n",
        "        new_order = {}\n",
        "        for k in list(most_common_items_of_user.keys())[:20]:\n",
        "            try:\n",
        "                itemindex = f.items.index(k)\n",
        "                pred_value = np.dot(f.userfeatures[user_index], f.itemfeatures[itemindex].T) + f.item_bias[0, itemindex]\n",
        "            except:\n",
        "                pred_value = most_common_items_of_user[k]\n",
        "            new_order[k] = pred_value\n",
        "        user_output += [k for k, v in sorted(new_order.items(), key=lambda item: item[1])][:12]\n",
        "        \n",
        "    if user in positive_items_per_user4.keys():\n",
        "        most_common_items_of_user = {k:v for k, v in Counter(positive_items_per_user4[user]).most_common()}\n",
        "        \n",
        "        user_index = userindexes[user]\n",
        "        new_order = {}\n",
        "        for k in list(most_common_items_of_user.keys())[:20]:\n",
        "            try:\n",
        "                itemindex = f.items.index(k)\n",
        "                pred_value = np.dot(f.userfeatures[user_index], f.itemfeatures[itemindex].T) + f.item_bias[0, itemindex]\n",
        "            except:\n",
        "                pred_value = most_common_items_of_user[k]\n",
        "            new_order[k] = pred_value\n",
        "        user_output += [k for k, v in sorted(new_order.items(), key=lambda item: item[1])][:12]\n",
        "        \n",
        "    user_output += [pred_next[item] for item in user_output if item in pred_next and pred_next[item] not in user_output]      \n",
        "    \n",
        "    user_output += list(popular_items[:12 - len(user_output)])\n",
        "    outputs.append(user_output)\n",
        "    \n",
        "str_outputs = []\n",
        "for output in outputs:\n",
        "    str_outputs.append(\" \".join([str(x) for x in output]))"
      ],
      "id": "96923fc0"
    },
    {
      "cell_type": "code",
      "execution_count": 13,
      "metadata": {
        "id": "01ccbcfb"
      },
      "outputs": [],
      "source": [
        "submissions['prediction'] = str_outputs"
      ],
      "id": "01ccbcfb"
    },
    {
      "cell_type": "code",
      "execution_count": 14,
      "metadata": {
        "id": "a2637709"
      },
      "outputs": [],
      "source": [
        "submissions.to_csv(\"/content/drive/MyDrive/Project_Data/sub_svd.csv\", index=False)"
      ],
      "id": "a2637709"
    }
  ],
  "metadata": {
    "accelerator": "GPU",
    "colab": {
      "name": "Final Resuls from Best Models.ipynb",
      "provenance": []
    },
    "kernelspec": {
      "display_name": "Python 3 (ipykernel)",
      "language": "python",
      "name": "python3"
    },
    "language_info": {
      "codemirror_mode": {
        "name": "ipython",
        "version": 3
      },
      "file_extension": ".py",
      "mimetype": "text/x-python",
      "name": "python",
      "nbconvert_exporter": "python",
      "pygments_lexer": "ipython3",
      "version": "3.10.3"
    }
  },
  "nbformat": 4,
  "nbformat_minor": 5
}